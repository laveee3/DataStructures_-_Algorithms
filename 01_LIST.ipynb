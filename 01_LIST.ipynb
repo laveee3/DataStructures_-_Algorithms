{
 "cells": [
  {
   "cell_type": "code",
   "execution_count": 2,
   "id": "c3963d2a",
   "metadata": {},
   "outputs": [],
   "source": [
    "#   https://pynative.com/python-list-interview-questions/\n",
    "\n",
    "my_list = [1, 2, 2, \"a\"]  # Mutable, ordered, allows duplicates\n",
    "my_tuple = (1, 2, 2, \"a\") # Immutable, ordered, allows duplicates\n",
    "my_set = {1, 2, \"a\"}      # Mutable, unordered, no duplicates"
   ]
  },
  {
   "cell_type": "code",
   "execution_count": 3,
   "id": "590370dc",
   "metadata": {},
   "outputs": [],
   "source": [
    "# How can you access elements in a list?          we use index\n",
    "my_list[0]\n",
    "\n",
    "# negative indexing is a handy way to access elements from the end of the list\n",
    "my_list[-2]\n",
    "\n",
    "# List slicing in Python is a powerful way to extract a portion, or a subsequence, of a list\n",
    "# ------------------------------------------------\n",
    "my_list = [\"apple\", \"banana\", \"cherry\", \"date\", \"elderberry\"]\n",
    "\n",
    "# Get elements from index 1 up to (but not including) index 3\n",
    "my_slice = my_list[1:3]  # [\"banana\", \"cherry\"]\n",
    "\n",
    "# Get elements from the beginning up to (but not including) index 2\n",
    "my_slice = my_list[:2]   # [\"apple\", \"banana\"]\n",
    "\n",
    "# Get elements from index 2 to the end of the list\n",
    "my_slice = my_list[2:]   #  [\"cherry\", \"date\", \"elderberry\"]\n",
    "\n",
    "# Get every other element (step of 2)\n",
    "my_slice = my_list[::2]  # [\"apple\", \"cherry\", \"elderberry\"]\n",
    "\n",
    "# Reverse the list (step of -1)\n",
    "my_slice = my_list[::-1] #  [\"elderberry\", \"date\", \"cherry\", \"banana\", \"apple\"]\n",
    "\n",
    "# Create a shallow copy of the entire list\n",
    "my_slice = my_list[:] #  new list identical to my_list\n",
    "\n",
    "# Get the last element\n",
    "my_slice = my_list[-1:] #  [\"elderberry\"]\n",
    "\n",
    "# Get the last two elements\n",
    "my_slice = my_list[-2:] #  [\"date\", \"elderberry\"]"
   ]
  },
  {
   "cell_type": "code",
   "execution_count": 4,
   "id": "18462aba",
   "metadata": {},
   "outputs": [
    {
     "name": "stdout",
     "output_type": "stream",
     "text": [
      "[1, 2, 3, 4]\n",
      "[1, 10, 2, 3, 4]\n",
      "[1, 10, 2, 3, 4, 4, 5, 6]\n"
     ]
    }
   ],
   "source": [
    "# How do you add elements to a list?\n",
    "\n",
    "# 1. append()     adds single element\n",
    "\n",
    "my_list = [1, 2, 3]\n",
    "my_list.append(4)  # Adds 4 to the end\n",
    "print(my_list)      # Output: [1, 2, 3, 4]\n",
    "\n",
    "# 2. insert()\n",
    "my_list.insert(1, 10)  # Inserts 10 at index 1\n",
    "print(my_list)      # Output: [1, 10, 2, 3]\n",
    "\n",
    "# 3. extend()      Adds multiple elements\n",
    "my_list.extend([4, 5, 6])  # Extends the list with [4, 5, 6]\n",
    "print(my_list)          # Output: [1, 2, 3, 4, 5, 6]"
   ]
  },
  {
   "cell_type": "code",
   "execution_count": null,
   "id": "ef54d779",
   "metadata": {},
   "outputs": [],
   "source": [
    "# How do you remove elements from a list?\n",
    "\n",
    "# remove()\n",
    "my_list = [1, 2, 3, 2, 4]\n",
    "my_list.remove(2)  # Removes the first 2\n",
    "print(my_list)      # Output: [1, 3, 2, 4]\n",
    "\n",
    "# ------------------------------------------------\n",
    "# pop()\n",
    "my_list = [1, 2, 3, 4]\n",
    "removed_element = my_list.pop(1)  # Removes the element at index 1 (2)\n",
    "print(my_list)      # Output: [1, 3, 4]\n",
    "print(removed_element) # Output: 2\n",
    "\n",
    "my_list = [1, 2, 3, 4]\n",
    "removed_element = my_list.pop()  # Removes the last element (4)\n",
    "print(my_list)      # Output: [1, 2, 3]\n",
    "print(removed_element) # Output: 4\n",
    "\n",
    "# ------------------------------------------------\n",
    "# del statement\n",
    "my_list = [1, 2, 3, 4]\n",
    "del my_list[0]  # Removes the element at index 0 (1)\n",
    "print(my_list)      # Output: [2, 3, 4]\n",
    "\n",
    "my_list = [1, 2, 3, 4]\n",
    "del my_list[1:3]  # Removes elements from index 1 up to (but not including) 3\n",
    "print(my_list)      # Output: [1, 4]\n",
    "\n",
    "my_list = [1, 2, 3, 4]\n",
    "del my_list[:]  # Removes all elements (makes the list empty)\n",
    "print(my_list)      # Output: []\n",
    "\n",
    "my_list = [1, 2, 3, 4]\n",
    "del my_list  # Deletes the entire list from memory.  You can no longer use my_list after this.\n",
    "\n",
    "# ------------------------------------------------\n",
    "# clear()\n",
    "my_list.clear()\n",
    "print(my_list)      # Output: []"
   ]
  },
  {
   "cell_type": "code",
   "execution_count": null,
   "id": "85a9fc8f",
   "metadata": {},
   "outputs": [],
   "source": [
    "#  How to remove all occurrences of a specific element from a list\n",
    "def remove_all_occurrences(my_list, element_to_remove):\n",
    "   \n",
    "    new_list = []  # Create a new list to store the results (important: don't modify in place while iterating)\n",
    "\n",
    "    for item in my_list:\n",
    "        if item != element_to_remove:\n",
    "            new_list.append(item)\n",
    "\n",
    "    return new_list\n",
    "\n",
    "# Example Usage:\n",
    "my_list = [1, 2, 3, 2, 4, 2, 5]\n",
    "element = 2\n",
    "new_list = remove_all_occurrences(my_list, element)\n",
    "print(f\"Original list: {my_list}\")\n",
    "print(f\"New list (2s removed): {new_list}\")  \n",
    "\n",
    "# -----------  method 2 : filter ----------------#\n",
    "\n",
    "new_list = list(filter(lambda x: x != target, original_list))\n",
    "\n",
    "# Output: New list (2s removed): [1, 3, 4, 5]"
   ]
  },
  {
   "cell_type": "code",
   "execution_count": 5,
   "id": "55647b9d",
   "metadata": {},
   "outputs": [
    {
     "name": "stdout",
     "output_type": "stream",
     "text": [
      "30 is in the list\n"
     ]
    }
   ],
   "source": [
    "# How do you check if an element exists in a list?\n",
    "\n",
    "my_list = [10, 20, 30, 40, 50]\n",
    "\n",
    "if 30 in my_list:\n",
    "    print(\"30 is in the list\")  # This will execute\n",
    "else:\n",
    "    print(\"30 is not in the list\")"
   ]
  },
  {
   "cell_type": "code",
   "execution_count": null,
   "id": "ca6e332c",
   "metadata": {},
   "outputs": [],
   "source": [
    "# How do you create a list from a string?\n",
    "\n",
    "# Method 1:  Character-by-character\n",
    "my_string = \"hello\"\n",
    "my_list = list(my_string)\n",
    "print(my_list)  # Output: ['h', 'e', 'l', 'l', 'o']\n",
    "\n",
    "\n",
    "# Method 2:  Splitting by a delimiter\n",
    "my_string = \"apple,banana,cherry\"\n",
    "my_list = my_string.split(\",\")  # Splits by comma\n",
    "print(my_list)  # Output: ['apple', 'banana', 'cherry']\n",
    "\n",
    "\n",
    "# Method 3:  List comprehension (for more complex cases)\n",
    "my_string = \"1,2,3,4,5\"\n",
    "my_list = [int(x) for x in my_string.split(\",\")]  # Convert to integers\n",
    "print(my_list)  # Output: [1, 2, 3, 4, 5]"
   ]
  },
  {
   "cell_type": "code",
   "execution_count": null,
   "id": "3a93223a",
   "metadata": {},
   "outputs": [],
   "source": [
    "#  List comprehension is a concise and elegant way to create lists in Python\n",
    "'''\n",
    "Why is list comprehension useful?\n",
    "\n",
    "Conciseness: It reduces the amount of code needed to create lists, making your code more readable and compact. The equivalent code using a traditional loop would be much longer.\n",
    "Readability: List comprehensions often express the intent more clearly than loops, especially for simple transformations. The logic is often easier to grasp at a glance.\n",
    "Performance: In some cases, list comprehensions can be slightly more efficient than equivalent loops, although the performance difference is usually not a primary reason for using them. The main benefits are readability and conciseness.\n",
    "\n",
    "It is used when the algorithm needs Simple transformations or filtering\n",
    "\n",
    "Regular loops are preferred when there is complex logic and side effects\n",
    "'''\n",
    "\n",
    "numbers = [1, 2, 3, 4, 5]\n",
    "squares = [x**2 for x in numbers]\n",
    "print(squares)  # Output: [1, 4, 9, 16, 25]\n",
    "\n",
    "numbers = [1, 2, 3, 4, 5, 6]\n",
    "even_squares = [x**2 for x in numbers if x % 2 == 0]\n",
    "print(even_squares)  # Output: [4, 16, 36]"
   ]
  },
  {
   "cell_type": "code",
   "execution_count": null,
   "id": "12f0063d",
   "metadata": {},
   "outputs": [],
   "source": [
    "# Use built-in functions: max() and min() to find the maximum or minimum element in a list.\n",
    "\n",
    "my_list = [10, 5, 20, 15, 25]\n",
    "\n",
    "print(max(my_list))  # Output: 25\n",
    "print(min(my_list))  # Output: 5\n",
    "print(sum(my_list))"
   ]
  },
  {
   "cell_type": "code",
   "execution_count": 1,
   "id": "4fcd20ee",
   "metadata": {},
   "outputs": [
    {
     "name": "stdout",
     "output_type": "stream",
     "text": [
      "Common elements: [40, 20]\n",
      "Common elements: [20, 40]\n"
     ]
    }
   ],
   "source": [
    "# Given two lists, write a function to find the common elements\n",
    "\n",
    "list1 = [10, 20, 30, 40]\n",
    "list2 = [20, 40, 60, 80]\n",
    "\n",
    "\n",
    "# Method 1\n",
    "# Convert lists to sets for efficient intersection\n",
    "set1 = set(list1)\n",
    "set2 = set(list2)\n",
    "\n",
    "# Convert back to a list\n",
    "common_elements = list(set1.intersection(set2))\n",
    "print(f\"Common elements: {common_elements}\") \n",
    "\n",
    "# Output: Common elements: [20, 40]\n",
    "\n",
    "\n",
    "# Method 2\n",
    "common_elements = [element for element in list1 if element in list2]\n",
    "print(f\"Common elements: {common_elements}\") \n",
    "\n",
    "# Output: Common elements: [20, 40]"
   ]
  },
  {
   "cell_type": "code",
   "execution_count": 5,
   "id": "d0b7f6a4",
   "metadata": {},
   "outputs": [
    {
     "name": "stdout",
     "output_type": "stream",
     "text": [
      "Enter your nameLavanya\n",
      "lAVANYA\n",
      "aynavaL\n",
      "['L', 'a', 'v', 'a', 'n', 'y', 'a']\n",
      "['L', 'a', 'v', 'a', 'n', 'y', 'a']\n",
      "['L', 'a', 'v', 'a', 'n', 'y', 'a']\n",
      "['L', 'a', 'v', 'n', 'y']\n",
      "Lavanya\n",
      "Lavanya\n",
      "Lovanya\n"
     ]
    }
   ],
   "source": [
    "# ----------- STRING operations ----------- #\n",
    "\n",
    "name = input(\"Enter your name\")\n",
    "\n",
    "case_swap = name.swapcase()\n",
    "name_rev = name[::-1]\n",
    "\n",
    "name_list = list(name)\n",
    "name_list2 = list(map(str, name))\n",
    "name_list3 = [x for x in name]\n",
    "\n",
    "name_list4 = list(dict.fromkeys(name_list))  # unique values only\n",
    "\n",
    "list_join1 = \"\".join(name_list)\n",
    "list_join2 = \"\".join(map(str,name_list))\n",
    "\n",
    "nm_replace = name.replace('a', 'o', 1) \n",
    "\n",
    "print(case_swap)\n",
    "print(name_rev)\n",
    "print(name_list)\n",
    "print(name_list2)\n",
    "print(name_list3)\n",
    "print(name_list4)\n",
    "print(list_join1)\n",
    "print(list_join2)\n",
    "print(nm_replace)"
   ]
  },
  {
   "cell_type": "code",
   "execution_count": 4,
   "id": "311a892f",
   "metadata": {},
   "outputs": [
    {
     "name": "stdout",
     "output_type": "stream",
     "text": [
      "Lit\n"
     ]
    }
   ],
   "source": [
    "str1 = \"Lavanya is great\"\n",
    "str2 = str1[0] + str1[len(str1)//2] + str1[len(str1)-1]\n",
    "print(str2)"
   ]
  },
  {
   "cell_type": "code",
   "execution_count": null,
   "id": "f9ebf2f8",
   "metadata": {},
   "outputs": [],
   "source": []
  }
 ],
 "metadata": {
  "kernelspec": {
   "display_name": "Python 3 (ipykernel)",
   "language": "python",
   "name": "python3"
  },
  "language_info": {
   "codemirror_mode": {
    "name": "ipython",
    "version": 3
   },
   "file_extension": ".py",
   "mimetype": "text/x-python",
   "name": "python",
   "nbconvert_exporter": "python",
   "pygments_lexer": "ipython3",
   "version": "3.11.8"
  }
 },
 "nbformat": 4,
 "nbformat_minor": 5
}
