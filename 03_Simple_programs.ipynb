{
 "cells": [
  {
   "cell_type": "code",
   "execution_count": null,
   "id": "6922ed48",
   "metadata": {},
   "outputs": [],
   "source": [
    "# -- PRIMES ---#\n",
    "\n",
    "primes = []\n",
    "for possiblePrime in range(2, 21):\n",
    "    # Assume number is prime until shown it is not.\n",
    "    isPrime = True\n",
    "    for num in range(2, possiblePrime):\n",
    "        if possiblePrime % num == 0:\n",
    "            isPrime = False\n",
    "\n",
    "    if isPrime:\n",
    "        primes.append(possiblePrime)\n",
    "\n",
    "print(primes)"
   ]
  },
  {
   "cell_type": "code",
   "execution_count": null,
   "id": "08012e23",
   "metadata": {},
   "outputs": [],
   "source": [
    "lst = [11, 22, 33, 44, 55]\n",
    "filter(lambda x: x % 2 == 0, lst)  # even number\n",
    "list(filter(lambda x: x % 2 == 0, lst))  # Convert filter object to list [22, 44]\n",
    "for item in filter(lambda x: x % 2 == 0, lst): print(item, end=' ') #22 44\n",
    "print(filter(lambda x: x % 2 == 0, lst))  # Cannot print() directly <filter object at 0x6ffffe797b8>"
   ]
  },
  {
   "cell_type": "code",
   "execution_count": null,
   "id": "bc971316",
   "metadata": {},
   "outputs": [],
   "source": [
    "# Take a list of numbers.\n",
    "my_list = [12, 65, 54, 39, 102, 339, 221, 50, 70, ]\n",
    "\n",
    "# use anonymous function to filter and comparing\n",
    "# if divisible or not\n",
    "result = list(filter(lambda x: (x % 13 == 0), my_list))\n",
    "print(result)"
   ]
  },
  {
   "cell_type": "code",
   "execution_count": 7,
   "id": "3b4acceb",
   "metadata": {},
   "outputs": [
    {
     "name": "stdout",
     "output_type": "stream",
     "text": [
      "XXXXX\n",
      " XXXX\n",
      "  XXX\n",
      "   XX\n",
      "    X\n",
      "     \n"
     ]
    }
   ],
   "source": [
    "# pattern printing\n",
    "\n",
    "n = 6\n",
    "\n",
    "for i in range(n):\n",
    "    for j in range(i):\n",
    "        print(\" \", end =\"\")\n",
    "    for k in range(n-i-1):\n",
    "        print(\"X\", end =\"\")\n",
    "    print()"
   ]
  },
  {
   "cell_type": "code",
   "execution_count": 6,
   "id": "6e1d8235",
   "metadata": {},
   "outputs": [
    {
     "name": "stdout",
     "output_type": "stream",
     "text": [
      "      x\n",
      "     xxx\n",
      "    xxxxx\n",
      "   xxxxxxx\n",
      "  xxxxxxxxx\n",
      " xxxxxxxxxxx\n",
      "xxxxxxxxxxxxx\n"
     ]
    }
   ],
   "source": [
    "# pattern printing\n",
    "\n",
    "n = 7\n",
    "\n",
    "for i in range(1,n+1):\n",
    "    for j in range(n-i):\n",
    "        print(\" \", end =\"\")\n",
    "    print(\"x\"*(2 * i - 1))\n",
    "    #print()"
   ]
  },
  {
   "cell_type": "code",
   "execution_count": 8,
   "id": "2b0d86e3",
   "metadata": {},
   "outputs": [
    {
     "name": "stdout",
     "output_type": "stream",
     "text": [
      "xxxxxxxxxxxxx\n",
      " xxxxxxxxxxx\n",
      "  xxxxxxxxx\n",
      "   xxxxxxx\n",
      "    xxxxx\n",
      "     xxx\n",
      "      x\n"
     ]
    }
   ],
   "source": [
    "n = 7\n",
    "\n",
    "for i in range(n):\n",
    "    for j in range(i):\n",
    "        print(\" \", end =\"\")\n",
    "    print(\"x\"*(2*(n-i)-1))\n",
    "    #print()"
   ]
  },
  {
   "cell_type": "code",
   "execution_count": null,
   "id": "b88fcfef",
   "metadata": {},
   "outputs": [],
   "source": [
    "# NESTED LIST /  MAtrix\n",
    "matrix = [\n",
    "    [1, 2, 3],\n",
    "    [4, 5, 6],\n",
    "    [7, 8, 9]\n",
    "]\n",
    "\n",
    "'''\n",
    "matrix[0] gives you [1, 2, 3] (the first inner list).\n",
    "matrix[0][0] gives you 1 (the first element of the first inner list).\n",
    "matrix[1][2] gives you 6 (the third element of the second inner list).\n",
    "matrix[2][1] gives you 8 (the second element of the third inner list).\n",
    "'''\n",
    "len(matrix)"
   ]
  },
  {
   "cell_type": "code",
   "execution_count": null,
   "id": "fde7f0e5",
   "metadata": {},
   "outputs": [],
   "source": [
    "# Write a function to flatten a nested list\n",
    "\n",
    "# Method 1\n",
    "flat_list = []\n",
    "for i in range(len(matrix)):\n",
    "    for j in matrix[i]:\n",
    "        flat_list.append(j)\n",
    "print(flat_list)\n",
    "\n",
    "\n",
    "# Method 2\n",
    "def flatten_nested_list(nested_list):\n",
    "\n",
    "    flat_list = []\n",
    "    for item in nested_list:\n",
    "        if isinstance(item, list):  # Check if the item is a list\n",
    "            flat_list.extend(flatten_nested_list(item))  # Recursively flatten sublists\n",
    "        else:\n",
    "            flat_list.append(item)  # Add non-list items directly\n",
    "    return flat_list\n",
    "\n",
    "# Example Usage:\n",
    "nested_list1 = [1, 2, [3, 4], 7, 8]\n",
    "flat_list1 = flatten_nested_list(nested_list1)\n",
    "print(f\"Flattened list: {flat_list1}\")  \n",
    "\n",
    "# Output: Flattened list: [1, 2, 3, 4, 7, 8]"
   ]
  },
  {
   "cell_type": "code",
   "execution_count": null,
   "id": "0fd6e9eb",
   "metadata": {},
   "outputs": [],
   "source": [
    "\"\"\"\n",
    "The average of a subarray will be an integer if and only if the sum of the elements in the subarray is divisible by the length of that subarray.\n",
    "So we want each row to be constructed such that:\n",
    "For any contiguous subarray in a row → its sum is divisible by its length.\n",
    "If each row is an arithmetic progression (AP) with a common difference divisible by N, then all subarray averages will be integers.\n",
    "But there's an even simpler trick: Make each row a constant row (all elements equal)!\n",
    "Why? The average of [a, a, a] is always a, which is an integer.\n",
    "\"\"\"\n",
    "\n",
    "def construct_matrix(M, N):\n",
    "    matrix = []\n",
    "    for i in range(M):\n",
    "        row_value = i + 1\n",
    "        row = [row_value] * N\n",
    "        matrix.append(row)\n",
    "    return matrix\n",
    "\n",
    "# Example usage\n",
    "M, N = 3, 4\n",
    "matrix = construct_matrix(M, N)\n",
    "for row in matrix:\n",
    "    print(row)\n"
   ]
  }
 ],
 "metadata": {
  "kernelspec": {
   "display_name": "Python 3 (ipykernel)",
   "language": "python",
   "name": "python3"
  },
  "language_info": {
   "codemirror_mode": {
    "name": "ipython",
    "version": 3
   },
   "file_extension": ".py",
   "mimetype": "text/x-python",
   "name": "python",
   "nbconvert_exporter": "python",
   "pygments_lexer": "ipython3",
   "version": "3.11.8"
  }
 },
 "nbformat": 4,
 "nbformat_minor": 5
}
