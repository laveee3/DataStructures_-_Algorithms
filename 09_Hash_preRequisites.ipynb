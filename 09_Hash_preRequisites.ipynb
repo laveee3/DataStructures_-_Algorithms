{
 "cells": [
  {
   "cell_type": "code",
   "execution_count": null,
   "id": "2859e4d2",
   "metadata": {},
   "outputs": [],
   "source": [
    "# HASH FUNCTION #"
   ]
  },
  {
   "cell_type": "markdown",
   "id": "f1db4bd5",
   "metadata": {},
   "source": [
    "from collections import Counter\n",
    "\n",
    "Counter objects behave largely like dictionaries, allowing access to counts using item lookups (e.g., my_counter['item']) \n",
    "and supporting dictionary methods like keys(), values(), and items().\n",
    "\n",
    "most_common() method:\n",
    "A particularly useful method is most_common(n), which returns a list of the n most common elements and their counts, \n",
    "ordered from most to least common.\n",
    "'''"
   ]
  },
  {
   "cell_type": "code",
   "execution_count": 1,
   "id": "275235a7",
   "metadata": {},
   "outputs": [
    {
     "name": "stdout",
     "output_type": "stream",
     "text": [
      "Counter({'apple': 3, 'banana': 2, 'orange': 1})\n",
      "Count of 'apple': 3\n",
      "Two most common fruits: [('apple', 3), ('banana', 2)]\n"
     ]
    }
   ],
   "source": [
    "'''\n",
    "from collections import Counter\n",
    "\n",
    "Counter objects behave largely like dictionaries, allowing access to counts using item lookups (e.g., my_counter['item']) \n",
    "and supporting dictionary methods like keys(), values(), and items().\n",
    "\n",
    "most_common() method:\n",
    "A particularly useful method is most_common(n), which returns a list of the n most common elements and their counts, \n",
    "ordered from most to least common.\n",
    "'''\n",
    "\n",
    "from collections import Counter\n",
    "\n",
    "# Counting elements in a list\n",
    "my_list = ['apple', 'banana', 'apple', 'orange', 'banana', 'apple']\n",
    "counts = Counter(my_list)\n",
    "print(counts)\n",
    "\n",
    "# Accessing counts\n",
    "print(f\"Count of 'apple': {counts['apple']}\")\n",
    "\n",
    "# Finding the most common elements\n",
    "most_common_fruits = counts.most_common(2)\n",
    "print(f\"Two most common fruits: {most_common_fruits}\")\n"
   ]
  },
  {
   "cell_type": "markdown",
   "id": "b58740b3",
   "metadata": {},
   "source": [
    "✅ When a Normal dict is Not Enough\n",
    "\n",
    "Here are the most common situations where a regular dictionary falls short and defaultdict shines:\n",
    "\n",
    "🔴 1. Avoiding KeyError When Accessing Missing Keys\n",
    "🚫 With a normal dict:\n",
    "d = {}\n",
    "d['apple'] += 1  # ❌ KeyError: 'apple'\n",
    "\n",
    "✅ With defaultdict(int):\n",
    "from collections import defaultdict\n",
    "d = defaultdict(int)\n",
    "d['apple'] += 1  # Works fine, auto-initializes 'apple' to 0\n",
    "\n",
    "🔴 2. Appending to a List per Key Without Checking\n",
    "🚫 With a normal dict:\n",
    "group = {}\n",
    "for fruit in ['apple', 'banana', 'apple']:\n",
    "    if fruit not in group:\n",
    "        group[fruit] = []\n",
    "    group[fruit].append(fruit)\n",
    "    \n",
    "   ✅ With defaultdict(list):\n",
    "from collections import defaultdict\n",
    "group = defaultdict(list)\n",
    "for fruit in ['apple', 'banana', 'apple']:\n",
    "    group[fruit].append(fruit)\n",
    "Use case: Grouping items, e.g., grouping anagrams, adjacency lists in graphs\n",
    "\n",
    "🔴 3. Working with Nested Dictionaries\n",
    "You want to avoid writing code like:\n",
    "if outer_key not in d:\n",
    "    d[outer_key] = {}\n",
    "if inner_key not in d[outer_key]:\n",
    "    d[outer_key][inner_key] = 0\n",
    "    \n",
    "✅ With defaultdict(lambda: defaultdict(int)):\n",
    "from collections import defaultdict\n",
    "\n",
    "d = defaultdict(lambda: defaultdict(int))\n",
    "d['outer']['inner'] += 1  # Works safely\n",
    "Use case: 2D maps, counters by category, etc.\n",
    "\n",
    "🔴 4. Cleaner Looping and Counting\n",
    "Instead of this:\n",
    "    word_counts = {}\n",
    "    for word in words:\n",
    "        if word not in word_counts:\n",
    "            word_counts[word] = 1\n",
    "        else:\n",
    "            word_counts[word] += 1\n",
    "            \n",
    "just Use\n",
    "from collections import defaultdict\n",
    "word_counts = defaultdict(int)\n",
    "for word in words:\n",
    "    word_counts[word] += 1\n",
    "\n",
    "| Scenario                           | Use `defaultdict`? | Why?                          |\n",
    "| ---------------------------------- | ------------------ | ----------------------------- |\n",
    "| Counting items (like word freq)    | ✅ Yes              | Auto-inits to `0`             |\n",
    "| Grouping into lists/sets           | ✅ Yes              | Auto-inits to `[]` or `set()` |\n",
    "| Graphs / adjacency lists           | ✅ Yes              | Clean edges appending         |\n",
    "| Avoiding multiple if-not-in checks | ✅ Yes              | Cleaner & more readable       |\n",
    "| You control all keys manually      | ❌ Not necessary    | Regular `dict` is fine        |\n"
   ]
  },
  {
   "cell_type": "code",
   "execution_count": 4,
   "id": "5dedb934",
   "metadata": {},
   "outputs": [
    {
     "name": "stdout",
     "output_type": "stream",
     "text": [
      "defaultdict(<class 'list'>, {'fruits': ['apple', 'banana'], 'vegetables': ['carrot']})\n",
      "[]\n",
      "defaultdict(<class 'list'>, {'fruits': ['apple', 'banana'], 'vegetables': ['carrot'], 'juices': []})\n"
     ]
    }
   ],
   "source": [
    "'''\n",
    "from collections import defaultdict\n",
    "\n",
    "Common use cases:\n",
    "Counting occurrences: Using defaultdict(int) to count the frequency of items in a sequence.\n",
    "Grouping data: Using defaultdict(list) or defaultdict(set) to group elements based on a common key.\n",
    "Handling nested structures: Creating nested dictionaries or lists where intermediate levels might not always exist.\n",
    "'''\n",
    "\n",
    "from collections import defaultdict\n",
    "\n",
    "# Create a defaultdict where missing keys will default to an empty list\n",
    "my_dict = defaultdict(list)\n",
    "\n",
    "# Add items to a list associated with a key\n",
    "my_dict['fruits'].append('apple')\n",
    "my_dict['fruits'].append('banana')\n",
    "my_dict['vegetables'].append('carrot')\n",
    "\n",
    "print(my_dict)\n",
    "# Output: defaultdict(<class 'list'>, {'fruits': ['apple', 'banana'], 'vegetables': ['carrot']})\n",
    "\n",
    "# Access a key that doesn't exist; it will automatically create an empty list for it\n",
    "print(my_dict['juices'])\n",
    "# Output: []\n",
    "\n",
    "print(my_dict)\n",
    "# Output: defaultdict(<class 'list'>, {'fruits': ['apple', 'banana'], 'vegetables': ['carrot'], 'juices': []})\n",
    "\n",
    "\n"
   ]
  },
  {
   "cell_type": "code",
   "execution_count": 5,
   "id": "c3af13c1",
   "metadata": {},
   "outputs": [
    {
     "name": "stdout",
     "output_type": "stream",
     "text": [
      "defaultdict(<class 'int'>, {1: 2, 2: 3, 3: 1, 4: 2})\n"
     ]
    }
   ],
   "source": [
    "from collections import defaultdict\n",
    " \n",
    "d = defaultdict(int) \n",
    "a = [1, 2, 3, 4, 2, 4, 1, 2]\n",
    "\n",
    "for i in a:\n",
    "    d[i] += 1\n",
    "    \n",
    "print(d)"
   ]
  },
  {
   "cell_type": "code",
   "execution_count": 6,
   "id": "cedafec5",
   "metadata": {},
   "outputs": [
    {
     "name": "stdout",
     "output_type": "stream",
     "text": [
      "Index: 0, Item: apple\n",
      "Index: 1, Item: banana\n",
      "Index: 2, Item: cherry\n"
     ]
    }
   ],
   "source": [
    "my_list = ['apple', 'banana', 'cherry']\n",
    "for index, item in enumerate(my_list):\n",
    "    print(f\"Index: {index}, Item: {item}\")"
   ]
  }
 ],
 "metadata": {
  "kernelspec": {
   "display_name": "Python 3 (ipykernel)",
   "language": "python",
   "name": "python3"
  },
  "language_info": {
   "codemirror_mode": {
    "name": "ipython",
    "version": 3
   },
   "file_extension": ".py",
   "mimetype": "text/x-python",
   "name": "python",
   "nbconvert_exporter": "python",
   "pygments_lexer": "ipython3",
   "version": "3.11.8"
  }
 },
 "nbformat": 4,
 "nbformat_minor": 5
}
