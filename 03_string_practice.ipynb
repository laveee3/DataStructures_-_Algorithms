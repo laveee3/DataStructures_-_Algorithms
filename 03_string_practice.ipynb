{
 "cells": [
  {
   "cell_type": "code",
   "execution_count": 1,
   "id": "059a16f0",
   "metadata": {},
   "outputs": [],
   "source": [
    "str1 = \"Lavanya is great\""
   ]
  },
  {
   "cell_type": "code",
   "execution_count": 2,
   "id": "c3b32171",
   "metadata": {},
   "outputs": [
    {
     "name": "stdout",
     "output_type": "stream",
     "text": [
      "Lit\n",
      "lavanya is great\n"
     ]
    }
   ],
   "source": [
    "str2 = str1[0] + str1[len(str1)//2] + str1[len(str1)-1]\n",
    "print(str2)\n",
    "print(str1.lower())"
   ]
  },
  {
   "cell_type": "code",
   "execution_count": 11,
   "id": "1ac8d79d",
   "metadata": {},
   "outputs": [
    {
     "name": "stdout",
     "output_type": "stream",
     "text": [
      "Lavanya is great really\n"
     ]
    }
   ],
   "source": [
    "a = \" really\"\n",
    "#str2 = str1.append(a)\n",
    "str2 = ''.join(str1+a)\n",
    "print(str2)"
   ]
  },
  {
   "cell_type": "code",
   "execution_count": 12,
   "id": "0837ac5c",
   "metadata": {},
   "outputs": [
    {
     "name": "stdout",
     "output_type": "stream",
     "text": [
      "Lavanya is great really\n"
     ]
    }
   ],
   "source": [
    "str3 = str1 + a\n",
    "print(str3)"
   ]
  },
  {
   "cell_type": "code",
   "execution_count": 17,
   "id": "f6bb5b24",
   "metadata": {},
   "outputs": [
    {
     "name": "stdout",
     "output_type": "stream",
     "text": [
      "P\n",
      "y\n",
      "n\n",
      "a\n",
      "t\n",
      "i\n",
      "v\n",
      "e\n"
     ]
    }
   ],
   "source": [
    "str1 = \"P@#yn26at^&i5ve\"\n",
    "for i in str1:\n",
    "    if i.isalpha():\n",
    "        print(i)"
   ]
  },
  {
   "cell_type": "code",
   "execution_count": 26,
   "id": "0feede0c",
   "metadata": {},
   "outputs": [
    {
     "name": "stdout",
     "output_type": "stream",
     "text": [
      "7\n",
      "Abcdefghijk\n"
     ]
    }
   ],
   "source": [
    "str1 = \"Abcfgjk\"\n",
    "str2 = \"dehi\"\n",
    "length = max(len(str1),len(str2))\n",
    "print(length)\n",
    "str3 = \"\"\n",
    "for i in range(1,length,2):\n",
    "    if i > len(str2):\n",
    "        str3 = str3 + str1[i:length]\n",
    "        break\n",
    "    else:\n",
    "        str3 = str3 + str1[i:i+2]+str2[i-1:i+1]\n",
    "print(str1[0]+str3)"
   ]
  },
  {
   "cell_type": "code",
   "execution_count": 6,
   "id": "5838811b",
   "metadata": {},
   "outputs": [
    {
     "name": "stdout",
     "output_type": "stream",
     "text": [
      "The USA count is: 1\n"
     ]
    }
   ],
   "source": [
    "str1 = \"Welcome to USA. usa awesome, isn't it?\"\n",
    "sub_string = \"USA\"\n",
    "\n",
    "# convert string to lowercase\n",
    "temp_str = str1.lower()\n",
    "\n",
    "# use count function\n",
    "count = str1.count(sub_string)\n",
    "print(\"The USA count is:\", count)"
   ]
  },
  {
   "cell_type": "code",
   "execution_count": 29,
   "id": "9d009b40",
   "metadata": {},
   "outputs": [
    {
     "name": "stdout",
     "output_type": "stream",
     "text": [
      "Geeks\n",
      "24\n"
     ]
    }
   ],
   "source": [
    "str = \"Geeks For Jeeks is best!\"\n",
    "substring_start = str[:5]\n",
    "print(substring_start)\n",
    "print(len(str))"
   ]
  },
  {
   "cell_type": "code",
   "execution_count": 30,
   "id": "ea17323d",
   "metadata": {},
   "outputs": [
    {
     "name": "stdout",
     "output_type": "stream",
     "text": [
      "5\n"
     ]
    }
   ],
   "source": [
    "str1= str.split()\n",
    "print(len(str1))"
   ]
  },
  {
   "cell_type": "code",
   "execution_count": 32,
   "id": "954a7ce1",
   "metadata": {},
   "outputs": [
    {
     "name": "stdout",
     "output_type": "stream",
     "text": [
      "<list_reverseiterator object at 0x000002839F25D030>\n",
      "[100, 200, 300, 400, 500]\n"
     ]
    }
   ],
   "source": [
    "list1 = [100, 200, 300, 400, 500]\n",
    "print(reversed(list1))\n",
    "print(list1)"
   ]
  },
  {
   "cell_type": "code",
   "execution_count": 41,
   "id": "fab04cd6",
   "metadata": {},
   "outputs": [
    {
     "name": "stdout",
     "output_type": "stream",
     "text": [
      "['Hello  Dear', 'Hello  Sir', 'take  Dear', 'take  Sir']\n",
      "['Hello Dear', 'take Sir']\n"
     ]
    }
   ],
   "source": [
    "# Concatenate two lists index-wise in 2 diff ways\n",
    "\n",
    "list1 = [\"Hello \", \"take \"]\n",
    "list2 = [\"Dear\", \"Sir\"]\n",
    "list3 = []\n",
    "for i in list1:\n",
    "    for j in list2:\n",
    "        list3.append(i+' ' +j)\n",
    "print(list3)\n",
    "\n",
    "list3 = [i + j for i, j in zip(list1, list2)]\n",
    "print(list3)"
   ]
  },
  {
   "cell_type": "code",
   "execution_count": 37,
   "id": "40570655",
   "metadata": {},
   "outputs": [
    {
     "name": "stdout",
     "output_type": "stream",
     "text": [
      "[['a', 23], ['c', 29], ['b', 33], ['d', 36]]\n"
     ]
    }
   ],
   "source": [
    "# sort list of list based on the second value\n",
    "\n",
    "list4 = [['a',23],['b',33],['c',29],['d',36]]\n",
    "list5 = sorted(list4, key = lambda x:x[1])\n",
    "print(list5)"
   ]
  },
  {
   "cell_type": "code",
   "execution_count": 39,
   "id": "f486a00f",
   "metadata": {},
   "outputs": [
    {
     "name": "stdout",
     "output_type": "stream",
     "text": [
      "[('c', 11), ('a', 23), ('d', 29), ('b', 37)]\n"
     ]
    }
   ],
   "source": [
    "# sort list of tuple based on the second value\n",
    "\n",
    "tuple1 = (('a', 23),('b', 37),('c', 11), ('d',29))\n",
    "tuple5 = sorted(tuple1, key = lambda x:x[1])\n",
    "print(tuple5)"
   ]
  },
  {
   "cell_type": "code",
   "execution_count": 40,
   "id": "2ca65750",
   "metadata": {},
   "outputs": [
    {
     "name": "stdout",
     "output_type": "stream",
     "text": [
      "abcd\n"
     ]
    }
   ],
   "source": [
    "#Python: Convert a list of characters into a string\n",
    "\n",
    "# Define a list 's' containing individual characters\n",
    "s = ['a', 'b', 'c', 'd']\n",
    "\n",
    "# Use the 'join' method to concatenate the characters in the list 's' into a single string\n",
    "str1 = ''.join(s)\n",
    "\n",
    "# Print the concatenated string 'str1'\n",
    "print(str1)"
   ]
  },
  {
   "cell_type": "code",
   "execution_count": null,
   "id": "6567cee5",
   "metadata": {},
   "outputs": [],
   "source": [
    "# Remove Even Numbers from List\n",
    "# Create a list 'num' containing several integer values\n",
    "num = [7, 8, 120, 25, 44, 20, 27]\n",
    "\n",
    "# Use a list comprehension to create a new list 'num' that includes only the elements from the original list\n",
    "# where the element is not divisible by 2 (i.e., not even)\n",
    "num = [x for x in num if x % 2 != 0]\n",
    "\n",
    "# Print the modified 'num' list, which contains only odd values\n",
    "print(num)"
   ]
  },
  {
   "cell_type": "code",
   "execution_count": null,
   "id": "e1d10def",
   "metadata": {},
   "outputs": [],
   "source": [
    "# calculates the frequency of each element in a list\n",
    "\n",
    "def element_frequency(input_list):\n",
    "    frequency_dict = {}\n",
    "    for item in input_list:\n",
    "        if item in frequency_dict:\n",
    "            frequency_dict[item] += 1\n",
    "        else:\n",
    "            frequency_dict[item] = 1\n",
    "    return frequency_dict\n",
    "\n",
    "my_list = [1, 2, 2, 3, 3, 3, 4, 4, 4, 4]\n",
    "frequencies = element_frequency(my_list)\n",
    "print(frequencies)\n",
    "# Expected output: {1: 1, 2: 2, 3: 3, 4: 4}"
   ]
  },
  {
   "cell_type": "code",
   "execution_count": null,
   "id": "fd8d50de",
   "metadata": {},
   "outputs": [],
   "source": [
    "# Convert List to List of Dictionaries\n",
    "\n",
    "color_name = [\"Black\", \"Red\", \"Maroon\", \"Yellow\"]\n",
    "color_code = [\"#000000\", \"#FF0000\", \"#800000\", \"#FFFF00\"]\n",
    "print([{'color_name': f, 'color_code': c} for f, c in zip(color_name, color_code)])"
   ]
  },
  {
   "cell_type": "code",
   "execution_count": 43,
   "id": "79ae91b2",
   "metadata": {},
   "outputs": [
    {
     "name": "stdout",
     "output_type": "stream",
     "text": [
      "<generator object <genexpr> at 0x000002839FF60AC0>\n"
     ]
    }
   ],
   "source": [
    "# make list of list into single list\n",
    "\n",
    "nums = [[2, 4, 3], [1, 5, 6], [9], [7, 9, 0]]\n",
    "\n",
    "#expected output [2, 4, 3, 1, 5, 6, 9, 7, 9, 0]\n",
    "\n",
    "print([x for y in nums for x in y])"
   ]
  },
  {
   "cell_type": "code",
   "execution_count": 44,
   "id": "cea59d8f",
   "metadata": {},
   "outputs": [
    {
     "name": "stdout",
     "output_type": "stream",
     "text": [
      "[2, 4, 3, 1, 5, 6, 9, 7, 9, 0]\n"
     ]
    }
   ],
   "source": [
    "num1 = []\n",
    "for i in nums:\n",
    "    for j in i:\n",
    "        num1.append(j)\n",
    "        \n",
    "print(num1)\n",
    "            "
   ]
  },
  {
   "cell_type": "code",
   "execution_count": 47,
   "id": "65e79a76",
   "metadata": {},
   "outputs": [
    {
     "name": "stdout",
     "output_type": "stream",
     "text": [
      "['green', 'blue']\n",
      "['red', 'orange', 'white', 'black', 'yellow']\n"
     ]
    }
   ],
   "source": [
    "#Write a Python program to compute the difference between two lists. and alos their common items\n",
    "\n",
    "c1 = [\"red\", \"orange\", \"green\", \"blue\", \"white\"]\n",
    "c2 = [\"black\", \"yellow\", \"green\", \"blue\"]\n",
    "common, diff = [],[]\n",
    "for i in c1:\n",
    "    flag = 0\n",
    "    for j in c2:\n",
    "        if i == j:\n",
    "            flag = 1\n",
    "            common.append(i)\n",
    "            continue\n",
    "    if flag == 0:\n",
    "        diff.append(i)\n",
    "\n",
    "for i in c2:\n",
    "    flag = 0\n",
    "    for j in c1:\n",
    "        if i == j:\n",
    "            flag = 1\n",
    "            continue\n",
    "    if flag == 0:\n",
    "        diff.append(i)\n",
    "        \n",
    "print(common)\n",
    "print(diff)"
   ]
  },
  {
   "cell_type": "code",
   "execution_count": 48,
   "id": "ec540550",
   "metadata": {},
   "outputs": [
    {
     "name": "stdout",
     "output_type": "stream",
     "text": [
      "['red', 'orange', 'green', 'blue', 'white']\n"
     ]
    }
   ],
   "source": [
    "print(list(c1))"
   ]
  },
  {
   "cell_type": "code",
   "execution_count": 49,
   "id": "d454d3d9",
   "metadata": {},
   "outputs": [
    {
     "name": "stdout",
     "output_type": "stream",
     "text": [
      "['red', 'orange', 'green', 'blue', 'white']\n"
     ]
    }
   ],
   "source": [
    "print(c1)"
   ]
  },
  {
   "cell_type": "code",
   "execution_count": 57,
   "id": "c68ff6fa",
   "metadata": {},
   "outputs": [
    {
     "name": "stdout",
     "output_type": "stream",
     "text": [
      "['orange', 'is', 'sweet']\n",
      "False\n"
     ]
    }
   ],
   "source": [
    "e2 = \"orange is sweet\"\n",
    "print(e2.split())\n",
    "print(e2.isdigit())"
   ]
  },
  {
   "cell_type": "code",
   "execution_count": 58,
   "id": "45897f35",
   "metadata": {},
   "outputs": [
    {
     "name": "stdout",
     "output_type": "stream",
     "text": [
      "teews si egnaro\n"
     ]
    }
   ],
   "source": [
    "print(e2[::-1])"
   ]
  },
  {
   "cell_type": "code",
   "execution_count": 59,
   "id": "88971465",
   "metadata": {},
   "outputs": [
    {
     "ename": "AttributeError",
     "evalue": "'str' object has no attribute 'reverse'",
     "output_type": "error",
     "traceback": [
      "\u001b[1;31m---------------------------------------------------------------------------\u001b[0m",
      "\u001b[1;31mAttributeError\u001b[0m                            Traceback (most recent call last)",
      "Cell \u001b[1;32mIn[59], line 1\u001b[0m\n\u001b[1;32m----> 1\u001b[0m \u001b[38;5;28mprint\u001b[39m(e2\u001b[38;5;241m.\u001b[39mreverse())\n",
      "\u001b[1;31mAttributeError\u001b[0m: 'str' object has no attribute 'reverse'"
     ]
    }
   ],
   "source": [
    "print(e2.reverse())"
   ]
  },
  {
   "cell_type": "code",
   "execution_count": 63,
   "id": "249f19db",
   "metadata": {},
   "outputs": [
    {
     "name": "stdout",
     "output_type": "stream",
     "text": [
      "[0, 1, 2, 3] [2, 2, 3, 1]\n",
      "[0, 0, 1, 1, 2, 2, 2, 3]\n"
     ]
    }
   ],
   "source": [
    "array = [0,1,2,1,2,0,2,3]\n",
    "unique_array = []\n",
    "dutch_flag = []\n",
    "count = []\n",
    "for i in array:\n",
    "    if i not in unique_array:\n",
    "        unique_array.append(i)\n",
    "        count.append(array.count(i))\n",
    "print(unique_array, count)\n",
    "\n",
    "\n",
    "for i in unique_array:\n",
    "    a = count[i]\n",
    "    while a > 0:\n",
    "        dutch_flag.append(i)\n",
    "        a = a - 1\n",
    "\n",
    "print(dutch_flag)\n"
   ]
  },
  {
   "cell_type": "code",
   "execution_count": 64,
   "id": "e4e42f04",
   "metadata": {},
   "outputs": [
    {
     "name": "stdout",
     "output_type": "stream",
     "text": [
      "9\n",
      "Dict {1: 3, 2: 3, 4: 2, 3: 1}\n"
     ]
    }
   ],
   "source": [
    "arr = [1, 1, 1, 2, 2, 2,4,3,4]\n",
    "unique_arr = {}\n",
    "lra = []\n",
    "\n",
    "length = len(arr)\n",
    "print(length)\n",
    "\n",
    "for i in arr:\n",
    "    if i not in unique_arr:\n",
    "        unique_arr[i] = arr.count(i)\n",
    "\n",
    "print(\"Dict\", unique_arr)"
   ]
  },
  {
   "cell_type": "code",
   "execution_count": 65,
   "id": "f79f7766",
   "metadata": {},
   "outputs": [
    {
     "name": "stdout",
     "output_type": "stream",
     "text": [
      "[1, 2, 4, 3, 1, 2, 4, 1, 2]\n"
     ]
    }
   ],
   "source": [
    "while len(lra) < length:\n",
    "    for i in unique_arr:\n",
    "        if unique_arr[i] > 0:\n",
    "            lra.append(i)\n",
    "            #print(\"lra \", len(lra))\n",
    "            unique_arr[i] = unique_arr[i] - 1\n",
    "\n",
    "print(lra)\n"
   ]
  },
  {
   "cell_type": "code",
   "execution_count": 67,
   "id": "1c9c202b",
   "metadata": {},
   "outputs": [
    {
     "name": "stdout",
     "output_type": "stream",
     "text": [
      "234 232 2\n",
      "length of the list:  3\n",
      "What number do you want to find whether its present in the list? \n",
      "3\n"
     ]
    }
   ],
   "source": [
    "numbers = input()\n",
    "numbers = list(map(int, numbers.split()))\n",
    "print(\"length of the list: \", len(numbers))\n",
    "print(\"What number do you want to find whether its present in the list? \")\n",
    "given = int(input())"
   ]
  },
  {
   "cell_type": "code",
   "execution_count": 68,
   "id": "78152cbf",
   "metadata": {},
   "outputs": [
    {
     "name": "stdout",
     "output_type": "stream",
     "text": [
      "outside\n",
      " \n",
      "outside\n",
      "False\n"
     ]
    }
   ],
   "source": [
    "def inside(numbers):\n",
    "    j = 0\n",
    "    for i in range(len(numbers)):\n",
    "        if given == numbers[i]:\n",
    "            j = 1\n",
    "        i = i + 1\n",
    "        \n",
    "    if (j == 1):\n",
    "        print(\"inside t\")\n",
    "        return True;\n",
    "    else:\n",
    "        print(\"outside\")\n",
    "        return False;\n",
    "\n",
    "inside(numbers)\n",
    "print(\" \")\n",
    "print(inside(numbers))"
   ]
  },
  {
   "cell_type": "code",
   "execution_count": 71,
   "id": "50264ed1",
   "metadata": {},
   "outputs": [
    {
     "name": "stdout",
     "output_type": "stream",
     "text": [
      "567\n",
      "['567']\n"
     ]
    }
   ],
   "source": [
    "num= 567\n",
    "ste = f\"{num}\"\n",
    "print(ste)\n",
    "ste = ste.split()\n",
    "print(ste)"
   ]
  },
  {
   "cell_type": "code",
   "execution_count": 75,
   "id": "02b304b0",
   "metadata": {},
   "outputs": [
    {
     "ename": "NameError",
     "evalue": "name 'p' is not defined",
     "output_type": "error",
     "traceback": [
      "\u001b[1;31m---------------------------------------------------------------------------\u001b[0m",
      "\u001b[1;31mNameError\u001b[0m                                 Traceback (most recent call last)",
      "Cell \u001b[1;32mIn[75], line 22\u001b[0m\n\u001b[0;32m     18\u001b[0m     \u001b[38;5;28;01mreturn\u001b[39;00m (index, profit)\n\u001b[0;32m     20\u001b[0m \u001b[38;5;66;03m#print(\"index, profit:\")\u001b[39;00m\n\u001b[0;32m     21\u001b[0m \u001b[38;5;66;03m#find_max(stk_price)\u001b[39;00m\n\u001b[1;32m---> 22\u001b[0m j\u001b[38;5;241m=\u001b[39m find_max(stk_price[p:])\n\u001b[0;32m     23\u001b[0m d\u001b[38;5;241m=\u001b[39m find_max(stk_price[:p])\n\u001b[0;32m     25\u001b[0m \u001b[38;5;28;01mfor\u001b[39;00m p \u001b[38;5;129;01min\u001b[39;00m \u001b[38;5;28mrange\u001b[39m(d):\n\u001b[0;32m     26\u001b[0m     \u001b[38;5;66;03m#print(\"index, profit:\")\u001b[39;00m\n\u001b[0;32m     27\u001b[0m     \u001b[38;5;66;03m#print(stk_price[i:])\u001b[39;00m\n\u001b[0;32m     28\u001b[0m \n\u001b[0;32m     29\u001b[0m     \u001b[38;5;66;03m#print(j,d)\u001b[39;00m\n",
      "\u001b[1;31mNameError\u001b[0m: name 'p' is not defined"
     ]
    }
   ],
   "source": [
    "stk_price = [310,315,275,290,270,230,255,250]\n",
    "num = len(stk_price)\n",
    "\n",
    "low_index, high_index, max_profit = 0,0,0\n",
    "\n",
    "def find_max(stk_price):\n",
    "    size = len(stk_price)\n",
    "#    print (\"size of array is:\",size)\n",
    "    index, profit = 0, 0\n",
    "\n",
    "    for i in range(1,size-1):\n",
    "        if (stk_price[0] < stk_price[i]):\n",
    "            diff = stk_price[i] - stk_price[0]\n",
    "            if diff > profit:\n",
    "                index = i\n",
    "                profit = diff\n",
    "    #print(index, profit)\n",
    "    return (index, profit)\n",
    "\n",
    "#print(\"index, profit:\")\n",
    "#find_max(stk_price)\n",
    "j= find_max(stk_price[p:])\n",
    "d= find_max(stk_price[:p])\n",
    "    \n",
    "for p in range(d):\n",
    "    #print(\"index, profit:\")\n",
    "    #print(stk_price[i:])\n",
    "\n",
    "    #print(j,d)\n",
    "    if (d > max_profit):\n",
    "        low_index = p\n",
    "        high_index = j + p\n",
    "        max_profit = d\n",
    "\n",
    "print(\"low_index, high_index, max_profit\", stk_price[low_index], stk_price[high_index], max_profit)"
   ]
  },
  {
   "cell_type": "code",
   "execution_count": 84,
   "id": "77d0c9e3",
   "metadata": {},
   "outputs": [
    {
     "name": "stdout",
     "output_type": "stream",
     "text": [
      "[2, 0, 0, 2]\n",
      "['2', '0', '0', '2']\n"
     ]
    }
   ],
   "source": [
    "#s = \"Geeks for\"\n",
    "s = '2002'\n",
    "x = [int(i) for i in s]\n",
    "print(x)\n",
    "print(list(s))"
   ]
  },
  {
   "cell_type": "code",
   "execution_count": 78,
   "id": "b9296dfa",
   "metadata": {},
   "outputs": [
    {
     "name": "stdout",
     "output_type": "stream",
     "text": [
      "['Geeks', 'for']\n"
     ]
    }
   ],
   "source": [
    "print(s.split())"
   ]
  },
  {
   "cell_type": "code",
   "execution_count": 85,
   "id": "0737dbe0",
   "metadata": {},
   "outputs": [
    {
     "name": "stdout",
     "output_type": "stream",
     "text": [
      "[(1, 3, 5, 7), (2, 4, 6, 8)]\n"
     ]
    }
   ],
   "source": [
    "z = [(1, 2), (3, 4), (5, 6), (7, 8)] # Some output of zip() function\n",
    "unzip = lambda z: list(zip(*z))\n",
    "print(unzip(z))"
   ]
  },
  {
   "cell_type": "code",
   "execution_count": null,
   "id": "2897f4b6",
   "metadata": {},
   "outputs": [],
   "source": []
  }
 ],
 "metadata": {
  "kernelspec": {
   "display_name": "Python 3 (ipykernel)",
   "language": "python",
   "name": "python3"
  },
  "language_info": {
   "codemirror_mode": {
    "name": "ipython",
    "version": 3
   },
   "file_extension": ".py",
   "mimetype": "text/x-python",
   "name": "python",
   "nbconvert_exporter": "python",
   "pygments_lexer": "ipython3",
   "version": "3.11.8"
  }
 },
 "nbformat": 4,
 "nbformat_minor": 5
}
