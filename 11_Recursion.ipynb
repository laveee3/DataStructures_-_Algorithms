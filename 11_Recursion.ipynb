{
 "cells": [
  {
   "cell_type": "code",
   "execution_count": 1,
   "id": "ad540ae8",
   "metadata": {},
   "outputs": [
    {
     "name": "stdout",
     "output_type": "stream",
     "text": [
      "120\n"
     ]
    }
   ],
   "source": [
    "def factorial(n):\n",
    "    if n == 0:\n",
    "        return 1\n",
    "    else:\n",
    "        return n * factorial(n-1)\n",
    "    \n",
    "print(factorial(5))"
   ]
  },
  {
   "cell_type": "code",
   "execution_count": 2,
   "id": "2dc42e8b",
   "metadata": {},
   "outputs": [
    {
     "name": "stdout",
     "output_type": "stream",
     "text": [
      "55\n"
     ]
    }
   ],
   "source": [
    "def fibonacci(n):\n",
    "    if n <= 1:\n",
    "        return n\n",
    "    else:\n",
    "        return fibonacci(n-1) + fibonacci(n-2)\n",
    "    \n",
    "print(fibonacci(10))"
   ]
  },
  {
   "cell_type": "code",
   "execution_count": 3,
   "id": "52fe4518",
   "metadata": {},
   "outputs": [
    {
     "name": "stdout",
     "output_type": "stream",
     "text": [
      "15\n"
     ]
    }
   ],
   "source": [
    "# Sum of list elements\n",
    "\n",
    "def list_sum(arr):\n",
    "    if not arr:\n",
    "        return 0\n",
    "    else:\n",
    "        return arr[0] + list_sum(arr[1:])\n",
    "    \n",
    "print(list_sum([1, 2, 3, 4, 5])) # Output: 15"
   ]
  },
  {
   "cell_type": "code",
   "execution_count": 4,
   "id": "65f05dbe",
   "metadata": {},
   "outputs": [
    {
     "name": "stdout",
     "output_type": "stream",
     "text": [
      "8\n"
     ]
    }
   ],
   "source": [
    "\n",
    "def series_sum(n):\n",
    "    if (n) <= 1:\n",
    "        return 0\n",
    "    else:\n",
    "        return n + series_sum(n - 2)       \n",
    "        \n",
    "print(series_sum(5))\n",
    "    "
   ]
  },
  {
   "cell_type": "code",
   "execution_count": null,
   "id": "78da23f6",
   "metadata": {},
   "outputs": [],
   "source": [
    "# Define a function named sum_series that calculates the sum of a series of numbers\n",
    "def sum_series(n):\n",
    "    # Check if 'n' is less than 1 (base case for the series)\n",
    "    if n < 1:\n",
    "        # If 'n' is less than 1, return 0 (base case value for the sum)\n",
    "        return 0\n",
    "    else:\n",
    "        # If 'n' is greater than or equal to 1, calculate the sum of 'n' and\n",
    "        # recursively call the sum_series function with 'n - 2'\n",
    "        return n + sum_series(n - 2)\n",
    "\n",
    "# Print the result of calling the sum_series function with the input value 6\n",
    "print(sum_series(6))\n",
    "\n",
    "# Print the result of calling the sum_series function with the input value 10\n",
    "print(sum_series(10))"
   ]
  },
  {
   "cell_type": "code",
   "execution_count": 1,
   "id": "cccfdb7e",
   "metadata": {},
   "outputs": [
    {
     "name": "stdout",
     "output_type": "stream",
     "text": [
      "[1, 2, 3]\n",
      "[1, 3, 2]\n",
      "[2, 1, 3]\n",
      "[2, 3, 1]\n",
      "[3, 1, 2]\n",
      "[3, 2, 1]\n"
     ]
    }
   ],
   "source": [
    "'''\n",
    "Python program that takes an array of distinct integers as input and \n",
    "generates all permutations of that array using a classic backtracking approach:\n",
    "\n",
    "Explanation:\n",
    "The function backtrack builds permutations by adding unused numbers one by one.\n",
    "used keeps track of which numbers are already included in the current path.\n",
    "When the path length equals the input list length, one permutation is complete.\n",
    "Then it backtracks to explore other possibilities.\n",
    "'''\n",
    "\n",
    "def permute(nums):\n",
    "    result = []\n",
    "    used = [False] * len(nums)\n",
    "\n",
    "    def backtrack(path):\n",
    "        # If the path contains all numbers, add a copy to result\n",
    "        if len(path) == len(nums):\n",
    "            result.append(path[:])\n",
    "            return\n",
    "        \n",
    "        for i in range(len(nums)):\n",
    "            if not used[i]:\n",
    "                # Choose\n",
    "                used[i] = True\n",
    "                path.append(nums[i])\n",
    "\n",
    "                # Explore\n",
    "                backtrack(path)\n",
    "\n",
    "                # Un-choose (backtrack)\n",
    "                path.pop()\n",
    "                used[i] = False\n",
    "\n",
    "    backtrack([])\n",
    "    return result\n",
    "\n",
    "# Example usage:\n",
    "arr = [1, 2, 3]\n",
    "permutations = permute(arr)\n",
    "\n",
    "for p in permutations:\n",
    "    print(p)\n",
    "\n"
   ]
  },
  {
   "cell_type": "code",
   "execution_count": null,
   "id": "c0fd081e",
   "metadata": {},
   "outputs": [],
   "source": [
    "'''\n",
    "Here's a program that recursively generates all possible palindrome decompositions of the input string, \n",
    "and prints out all partitions including ones like \"020\", \"44\", \"5\", \"1881\".\n",
    "\n",
    "How it works for your example:\n",
    "It tries every possible substring starting at index 0, checks if it's a palindrome (e.g., \"0\", \"02\" (no), \"020\" (yes), etc.)\n",
    "When a palindrome is found, it recursively partitions the rest of the string.\n",
    "This process continues until the entire string is partitioned.\n",
    "Finally, it collects all possible palindrome partitions.\n",
    "'''\n",
    "\n",
    "def is_palindrome(s):\n",
    "    return s == s[::-1]\n",
    "\n",
    "def palindromic_decomposition(s):\n",
    "    result = []\n",
    "\n",
    "    def backtrack(start, path):\n",
    "        if start == len(s):\n",
    "            result.append(path[:])\n",
    "            return\n",
    "        \n",
    "        for end in range(start + 1, len(s) + 1):\n",
    "            substring = s[start:end]\n",
    "            if is_palindrome(substring):\n",
    "                path.append(substring)\n",
    "                backtrack(end, path)\n",
    "                path.pop()\n",
    "\n",
    "    backtrack(0, [])\n",
    "    return result\n",
    "\n",
    "# Test on your example\n",
    "string = \"02024451881\"\n",
    "partitions = palindromic_decomposition(string)\n",
    "\n",
    "for p in partitions:\n",
    "    print(p)\n"
   ]
  },
  {
   "cell_type": "code",
   "execution_count": null,
   "id": "20debae9",
   "metadata": {},
   "outputs": [],
   "source": [
    "'''\n",
    "\n",
    "What is Backtracking?\n",
    "Backtracking is a systematic way of trying out different sequences of decisions until you find a solution that works.\n",
    "It is essentially a depth-first search (DFS) of the solution space where you:\n",
    "\tBuild your solution step-by-step.\n",
    "\tWhenever you reach a point where the current partial solution cannot possibly lead to a valid full solution, you backtrack (undo the last decision) and try another option.\n",
    "\n",
    "Key ideas:\n",
    "Choice: At each step, you have several options to pick from.\n",
    "Constraints: You only want to continue with choices that don’t violate the problem’s rules.\n",
    "Goal: You want to find all or some solutions satisfying those constraints.\n",
    "\n",
    "How it works?\n",
    "You pick a choice and move forward (recursively).\n",
    "If the choice leads to a valid solution, you record it.\n",
    "If it doesn’t (or when you want to explore alternatives), you backtrack — undo the choice and try other possibilities.\n",
    "\n",
    "Analogy:\n",
    "Imagine solving a maze:\n",
    "You go down one path.\n",
    "If you hit a dead end, you return (backtrack) to the last fork and try a different path.\n",
    "You keep doing this until you find the exit.\n",
    "\n",
    "General structure (pseudocode):\n",
    "function backtrack(current_state):\n",
    "    if current_state is a solution:\n",
    "        record the solution\n",
    "        return\n",
    "    \n",
    "    for each choice in possible_choices:\n",
    "        if choice is valid:\n",
    "            make the choice\n",
    "            backtrack(updated_state)\n",
    "            undo the choice (backtrack)\n",
    "            \n",
    "Examples where backtracking is useful:\n",
    "\tGenerating permutations/combinations/subsets\n",
    "\tSolving puzzles like Sudoku, N-Queens\n",
    "\tPalindrome partitioning\n",
    "\tWord break problems\n",
    "\tMany constraint satisfaction problems\n",
    "\n",
    "Why use backtracking?\n",
    "\tIt’s a brute force search but prunes large parts of the search space by rejecting invalid partial solutions early.\n",
    "\tEfficient enough for many problems when combined with good pruning.\n",
    "\n",
    "\n",
    "'''"
   ]
  }
 ],
 "metadata": {
  "kernelspec": {
   "display_name": "Python 3 (ipykernel)",
   "language": "python",
   "name": "python3"
  },
  "language_info": {
   "codemirror_mode": {
    "name": "ipython",
    "version": 3
   },
   "file_extension": ".py",
   "mimetype": "text/x-python",
   "name": "python",
   "nbconvert_exporter": "python",
   "pygments_lexer": "ipython3",
   "version": "3.11.8"
  }
 },
 "nbformat": 4,
 "nbformat_minor": 5
}
