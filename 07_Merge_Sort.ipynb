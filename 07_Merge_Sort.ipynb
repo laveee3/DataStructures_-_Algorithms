{
 "cells": [
  {
   "cell_type": "code",
   "execution_count": 1,
   "id": "354e9cf3",
   "metadata": {},
   "outputs": [
    {
     "name": "stdout",
     "output_type": "stream",
     "text": [
      "Splitting  [54, 26, 93, 17, 77, 31, 44, 55, 20]\n",
      "Splitting  [54, 26, 93, 17]\n",
      "Splitting  [54, 26]\n",
      "Splitting  [54]\n",
      "Merging  [54]\n",
      "Splitting  [26]\n",
      "Merging  [26]\n",
      "Merging  [26, 54]\n",
      "Splitting  [93, 17]\n",
      "Splitting  [93]\n",
      "Merging  [93]\n",
      "Splitting  [17]\n",
      "Merging  [17]\n",
      "Merging  [17, 93]\n",
      "Merging  [17, 26, 54, 93]\n",
      "Splitting  [77, 31, 44, 55, 20]\n",
      "Splitting  [77, 31]\n",
      "Splitting  [77]\n",
      "Merging  [77]\n",
      "Splitting  [31]\n",
      "Merging  [31]\n",
      "Merging  [31, 77]\n",
      "Splitting  [44, 55, 20]\n",
      "Splitting  [44]\n",
      "Merging  [44]\n",
      "Splitting  [55, 20]\n",
      "Splitting  [55]\n",
      "Merging  [55]\n",
      "Splitting  [20]\n",
      "Merging  [20]\n",
      "Merging  [20, 55]\n",
      "Merging  [20, 44, 55]\n",
      "Merging  [20, 31, 44, 55, 77]\n",
      "Merging  [17, 20, 26, 31, 44, 54, 55, 77, 93]\n",
      "[17, 20, 26, 31, 44, 54, 55, 77, 93]\n"
     ]
    }
   ],
   "source": [
    "\n",
    "def mergeSort(alist):\n",
    "\n",
    "   print(\"Splitting \",alist)\n",
    "\n",
    "   if len(alist)>1:\n",
    "       mid = len(alist)//2\n",
    "       lefthalf = alist[:mid]\n",
    "       righthalf = alist[mid:]\n",
    "\n",
    "       #recursion\n",
    "       mergeSort(lefthalf)\n",
    "       mergeSort(righthalf)\n",
    "\n",
    "       i=0\n",
    "       j=0\n",
    "       k=0\n",
    "\n",
    "       while i < len(lefthalf) and j < len(righthalf):\n",
    "           if lefthalf[i] < righthalf[j]:\n",
    "               alist[k]=lefthalf[i]\n",
    "               i=i+1\n",
    "           else:\n",
    "               alist[k]=righthalf[j]\n",
    "               j=j+1\n",
    "           k=k+1\n",
    "\n",
    "       while i < len(lefthalf):\n",
    "           alist[k]=lefthalf[i]\n",
    "           i=i+1\n",
    "           k=k+1\n",
    "\n",
    "       while j < len(righthalf):\n",
    "           alist[k]=righthalf[j]\n",
    "           j=j+1\n",
    "           k=k+1\n",
    "        \n",
    "\n",
    "   print(\"Merging \",alist)\n",
    "\n",
    "alist = [54,26,93,17,77,31,44,55,20]\n",
    "mergeSort(alist)\n",
    "print(alist)\n"
   ]
  },
  {
   "cell_type": "code",
   "execution_count": 11,
   "id": "0e251c18",
   "metadata": {},
   "outputs": [
    {
     "name": "stdout",
     "output_type": "stream",
     "text": [
      "3628800\n"
     ]
    }
   ],
   "source": [
    "def factorial(n):\n",
    "    if n == 1:\n",
    "        return 1\n",
    "    elif n ==2:\n",
    "        return 2\n",
    "    else:\n",
    "        return n*factorial(n-1)\n",
    "    \n",
    "print(factorial(10))\n"
   ]
  },
  {
   "cell_type": "code",
   "execution_count": 3,
   "id": "68d811ee",
   "metadata": {},
   "outputs": [
    {
     "name": "stdout",
     "output_type": "stream",
     "text": [
      "Intersection: [2, 2, 3, 5]\n"
     ]
    }
   ],
   "source": [
    "'''\n",
    "\n",
    "✅ Problem:\n",
    "Given two sorted arrays, find their intersection (common elements).\n",
    "Each element in the result should appear as many times as it occurs in both arrays.\n",
    "\n",
    "A = [1, 2, 2, 3, 4, 5]\n",
    "B = [2, 2, 3, 5, 6]\n",
    "\n",
    "→ Intersection = [2, 2, 3, 5]\n",
    "\n",
    "✅ Efficient Approach (Two-pointer method)\n",
    "Since the arrays are sorted, we can use two pointers to iterate both arrays in O(n + m) time.\n",
    "\n",
    "\n",
    "✅ Why This Works\n",
    "Because arrays are sorted, we can advance pointers intelligently.\n",
    "\n",
    "When:\n",
    "A[i] == B[j]: match → move both pointers\n",
    "A[i] < B[j]: move i forward\n",
    "A[i] > B[j]: move j forward\n",
    "This guarantees no backtracking and runs in linear time.\n",
    "'''\n",
    "\n",
    "def intersect_sorted_arrays(A, B):\n",
    "    i = j = 0\n",
    "    result = []\n",
    "\n",
    "    while i < len(A) and j < len(B):\n",
    "       # print(f\"Comparing A[{i}]={A[i]} and B[{j}]={B[j]}\")\n",
    "\n",
    "        if A[i] == B[j]:\n",
    "           # print(f\"  → Match found: {A[i]}\")\n",
    "            result.append(A[i])\n",
    "            i += 1\n",
    "            j += 1\n",
    "        elif A[i] < B[j]:\n",
    "            i += 1\n",
    "        else:\n",
    "            j += 1\n",
    "\n",
    "    return result\n",
    "\n",
    "A = [1, 2, 2, 3, 4, 5]\n",
    "B = [2, 2, 3, 5, 6]\n",
    "\n",
    "print(\"Intersection:\", intersect_sorted_arrays(A, B))\n",
    "\n"
   ]
  },
  {
   "cell_type": "code",
   "execution_count": 4,
   "id": "deee497a",
   "metadata": {},
   "outputs": [
    {
     "name": "stdout",
     "output_type": "stream",
     "text": [
      "Initial frequency map from A: Counter({2: 2, 4: 1, 5: 1, 1: 1, 3: 1})\n",
      "→ Found 3 in both arrays, remaining count in A: 0\n",
      "→ Found 2 in both arrays, remaining count in A: 1\n",
      "→ Found 2 in both arrays, remaining count in A: 0\n",
      "6 not in A or already used up\n",
      "→ Found 5 in both arrays, remaining count in A: 0\n",
      "Intersection: [3, 2, 2, 5]\n"
     ]
    }
   ],
   "source": [
    "'''\n",
    "✅ Problem (Unsorted Arrays)\n",
    "Given two unsorted arrays A and B, find their intersection, including duplicate values — i.e., return elements that appear in both arrays, as many times as they appear in both.\n",
    "\n",
    "✅ Efficient Approach (Hash map / frequency count)\n",
    "Use a hash map to:\n",
    "Count the frequency of each element in one array (say A)\n",
    "Iterate over B, and if an element is in the map and its count > 0, add to result and decrease the count.\n",
    "'''\n",
    "\n",
    "from collections import Counter\n",
    "\n",
    "def intersect_unsorted_arrays(A, B):\n",
    "    freq = Counter(A)  # Hash map: element → count\n",
    "    result = []\n",
    "\n",
    "    print(\"Initial frequency map from A:\", freq)\n",
    "\n",
    "    for num in B:\n",
    "        if freq[num] > 0:\n",
    "            result.append(num)\n",
    "            freq[num] -= 1\n",
    "            print(f\"→ Found {num} in both arrays, remaining count in A: {freq[num]}\")\n",
    "        else:\n",
    "            print(f\"{num} not in A or already used up\")\n",
    "\n",
    "    return result\n",
    "\n",
    "A = [4, 2, 2, 5, 1, 3]\n",
    "B = [3, 2, 2, 6, 5]\n",
    "\n",
    "print(\"Intersection:\", intersect_unsorted_arrays(A, B))\n"
   ]
  },
  {
   "cell_type": "code",
   "execution_count": null,
   "id": "b891b0ed",
   "metadata": {},
   "outputs": [],
   "source": []
  }
 ],
 "metadata": {
  "kernelspec": {
   "display_name": "Python 3 (ipykernel)",
   "language": "python",
   "name": "python3"
  },
  "language_info": {
   "codemirror_mode": {
    "name": "ipython",
    "version": 3
   },
   "file_extension": ".py",
   "mimetype": "text/x-python",
   "name": "python",
   "nbconvert_exporter": "python",
   "pygments_lexer": "ipython3",
   "version": "3.11.8"
  }
 },
 "nbformat": 4,
 "nbformat_minor": 5
}
