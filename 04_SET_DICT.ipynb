{
 "cells": [
  {
   "cell_type": "code",
   "execution_count": 1,
   "id": "1ff170dc",
   "metadata": {},
   "outputs": [],
   "source": [
    "# Convert list and tuple to each other in Python\n",
    "\n",
    "s = {1, 2, 3}\n",
    "\n",
    "print(list(s))\n",
    "# [1, 2, 3]\n",
    "\n",
    "print(tuple(s))\n",
    "# (1, 2, 3)"
   ]
  },
  {
   "cell_type": "code",
   "execution_count": null,
   "id": "4c44d2cf",
   "metadata": {},
   "outputs": [],
   "source": [
    "'''\n",
    "-----------------------------   SET -------------------------------\n",
    "'''"
   ]
  },
  {
   "cell_type": "code",
   "execution_count": null,
   "id": "9bfeba82",
   "metadata": {},
   "outputs": [],
   "source": [
    "# Add an element to the set: add()\n",
    "\n",
    "\n",
    "# Remove an element from the set: discard(), remove(), pop(), clear()"
   ]
  },
  {
   "cell_type": "code",
   "execution_count": null,
   "id": "84153d77",
   "metadata": {},
   "outputs": [],
   "source": [
    "# Test if A is a subset of B: <= operator, issubset()\n",
    "\n",
    "s1 = {0, 1}\n",
    "s2 = {0, 1, 2, 3}\n",
    "\n",
    "print(s1 <= s2)\n",
    "# True\n",
    "\n",
    "print(s1.issubset(s2))\n",
    "# True\n",
    "\n",
    "# Test if B is a superset of A: >= operator, issuperset()\n",
    "print(s2 >= s1)\n",
    "# True\n",
    "\n",
    "print(s2.issuperset(s1))\n",
    "# True"
   ]
  },
  {
   "cell_type": "code",
   "execution_count": null,
   "id": "9ca21851",
   "metadata": {},
   "outputs": [],
   "source": [
    "# The union of two sets is a new set containing all elements from both sets, with no duplicates. \n",
    "# It can be obtained using the union() method or the | operator. \n",
    "\n",
    "set1 = {1, 2, 3}\n",
    "set2 = {3, 4, 5}\n",
    "\n",
    "# Using the union() method\n",
    "union_set = set1.union(set2)\n",
    "print(union_set)  # Output: {1, 2, 3, 4, 5}\n",
    "\n",
    "# Using the | operator\n",
    "union_set = set1 | set2\n",
    "print(union_set)  # Output: {1, 2, 3, 4, 5}"
   ]
  },
  {
   "cell_type": "code",
   "execution_count": null,
   "id": "d72cee2e",
   "metadata": {},
   "outputs": [],
   "source": [
    "# Set Intersection\n",
    "# The intersection of two sets is a new set containing only the elements common to both sets. \n",
    "# It can be obtained using the intersection() method or the & operator.\n",
    "\n",
    "set1 = {1, 2, 3, 4}\n",
    "set2 = {3, 4, 5, 6}\n",
    "\n",
    "# Using the intersection() method\n",
    "intersection_set = set1.intersection(set2)\n",
    "print(intersection_set)  # Output: {3, 4}\n",
    "\n",
    "# Using the & operator\n",
    "intersection_set = set1 & set2\n",
    "print(intersection_set)  # Output: {3, 4}"
   ]
  },
  {
   "cell_type": "code",
   "execution_count": 1,
   "id": "c9093e60",
   "metadata": {},
   "outputs": [
    {
     "name": "stdout",
     "output_type": "stream",
     "text": [
      "{0}\n",
      "{0}\n",
      "{0}\n"
     ]
    }
   ],
   "source": [
    "# You can get the difference with the - operator or the difference() method.\n",
    "\n",
    "s1 = {0, 1, 2}\n",
    "s2 = {1, 2, 3}\n",
    "s3 = {2, 3, 4}\n",
    "\n",
    "print(s1 - s2)\n",
    "# {0}\n",
    "\n",
    "print(s1.difference(s2))\n",
    "# {0}\n",
    "\n",
    "print(s1.difference(s2, s3))\n",
    "# {0}"
   ]
  },
  {
   "cell_type": "code",
   "execution_count": null,
   "id": "b900e355",
   "metadata": {},
   "outputs": [],
   "source": [
    "'''\n",
    "-----------------------------   DICTIONARY -------------------------------\n",
    "'''"
   ]
  },
  {
   "cell_type": "code",
   "execution_count": 2,
   "id": "696ec5d8",
   "metadata": {},
   "outputs": [
    {
     "name": "stdout",
     "output_type": "stream",
     "text": [
      "9\n",
      "{1: 3, 2: 3, 4: 2, 3: 1}\n"
     ]
    }
   ],
   "source": [
    "# Dutch flag - DICT  #\n",
    "\n",
    "arr = [1, 1, 1, 2, 2, 2,4,3,4]\n",
    "unique_arr = {}\n",
    "lra = []\n",
    "\n",
    "length = len(arr)\n",
    "print(length)\n",
    "\n",
    "for i in arr:\n",
    "    unique_arr[i]=arr.count(i)\n",
    "\n",
    "print(unique_arr)"
   ]
  },
  {
   "cell_type": "code",
   "execution_count": 3,
   "id": "2e506027",
   "metadata": {},
   "outputs": [
    {
     "name": "stdout",
     "output_type": "stream",
     "text": [
      "3\n"
     ]
    },
    {
     "data": {
      "text/plain": [
       "[1, 2]"
      ]
     },
     "execution_count": 3,
     "metadata": {},
     "output_type": "execute_result"
    }
   ],
   "source": [
    "#max value among values in key:value pair\n",
    "max_value = max(unique_arr.values())\n",
    "print(max_value)\n",
    "\n",
    "# key with the maximum value\n",
    "def keys_for_value(d, target_value):\n",
    "    return [k for k, v in d.items() if v == target_value]\n",
    "\n",
    "keys_for_value(unique_arr, max_value)"
   ]
  },
  {
   "cell_type": "code",
   "execution_count": 4,
   "id": "3ee823f5",
   "metadata": {},
   "outputs": [
    {
     "name": "stdout",
     "output_type": "stream",
     "text": [
      "2\n",
      "1\n",
      "0\n"
     ]
    }
   ],
   "source": [
    "'''\n",
    "To find the frequency (count) of a value (not key) in a Python dictionary, you can use this simple approach:\n",
    "'''\n",
    "\n",
    "my_dict = {\n",
    "    'a': 3,\n",
    "    'b': 2,\n",
    "    'c': 3,\n",
    "    'd': 5\n",
    "}\n",
    "\n",
    "def value_frequency(d, target_value):\n",
    "    return list(d.values()).count(target_value)\n",
    "\n",
    "\n",
    "print(value_frequency(my_dict, 3))  # Output: 2\n",
    "print(value_frequency(my_dict, 2))  # Output: 1\n",
    "print(value_frequency(my_dict, 9))  # Output: 0"
   ]
  },
  {
   "cell_type": "code",
   "execution_count": 43,
   "id": "ad0c50ee",
   "metadata": {},
   "outputs": [],
   "source": [
    "# key = country_capitol, values = population, country\n",
    "\n",
    "city_population = {\n",
    "    'Berlin': (3769495, 'Germany'),\n",
    "    'Paris': (2161000, 'France'),\n",
    "    'Vienna': (1921641, 'Austria'),\n",
    "    'Hamburg': (1841179, 'Germany'),\n",
    "    'Amsterdam': (872680, 'Netherlands'),\n",
    "    'Rotterdam': (651446, 'Netherlands'),\n",
    "    'Stuttgart': (634830, 'Germany'),\n",
    "    'Zurich': (415215, 'Switzerland'),\n",
    "    'Graz': (290571, 'Austria'),\n",
    "    'Strasbourg': (280966, 'France'),\n",
    "    'Freiburg': (230241, 'Germany'),\n",
    "    'Geneva': (201818, 'Switzerland'),\n",
    "    'Basel': (178128, 'Switzerland'),\n",
    "    'Salzburg': (155031, 'Austria'),\n",
    "    'Luxembourg City': (124528, 'Luxembourg'),\n",
    "    'Metz': (117619, 'France')\n",
    "}"
   ]
  },
  {
   "cell_type": "code",
   "execution_count": 8,
   "id": "27dd7c33",
   "metadata": {},
   "outputs": [
    {
     "name": "stdout",
     "output_type": "stream",
     "text": [
      "{'Amsterdam': (872680, 'Netherlands'), 'Basel': (178128, 'Switzerland'), 'Berlin': (3769495, 'Germany'), 'Freiburg': (230241, 'Germany'), 'Geneva': (201818, 'Switzerland'), 'Graz': (290571, 'Austria'), 'Hamburg': (1841179, 'Germany'), 'Luxembourg City': (124528, 'Luxembourg'), 'Metz': (117619, 'France'), 'Paris': (2161000, 'France'), 'Rotterdam': (651446, 'Netherlands'), 'Salzburg': (155031, 'Austria'), 'Strasbourg': (280966, 'France'), 'Stuttgart': (634830, 'Germany'), 'Vienna': (1921641, 'Austria'), 'Zurich': (415215, 'Switzerland')}\n"
     ]
    }
   ],
   "source": [
    "# key based sorting\n",
    "\n",
    "city_population_sorted = dict(sorted(city_population.items()))\n",
    "\n",
    "print(city_population_sorted)"
   ]
  },
  {
   "cell_type": "code",
   "execution_count": 44,
   "id": "9c1788c4",
   "metadata": {},
   "outputs": [],
   "source": [
    "city_population_sorted_by_country = dict(\n",
    "    sorted(city_population.items(), key=lambda item: item[1][1], reverse = True)\n",
    ")"
   ]
  },
  {
   "cell_type": "code",
   "execution_count": 17,
   "id": "dfa78698",
   "metadata": {},
   "outputs": [],
   "source": [
    "city_population_sorted_by_population = dict(\n",
    "    sorted(city_population.items(), key=lambda item: item[1][0], reverse = True)\n",
    ")"
   ]
  },
  {
   "cell_type": "code",
   "execution_count": 16,
   "id": "917e4e49",
   "metadata": {},
   "outputs": [
    {
     "name": "stdout",
     "output_type": "stream",
     "text": [
      "{'Zurich': (415215, 'Switzerland'), 'Geneva': (201818, 'Switzerland'), 'Basel': (178128, 'Switzerland'), 'Amsterdam': (872680, 'Netherlands'), 'Rotterdam': (651446, 'Netherlands'), 'Luxembourg City': (124528, 'Luxembourg'), 'Berlin': (3769495, 'Germany'), 'Hamburg': (1841179, 'Germany'), 'Stuttgart': (634830, 'Germany'), 'Freiburg': (230241, 'Germany'), 'Paris': (2161000, 'France'), 'Strasbourg': (280966, 'France'), 'Metz': (117619, 'France'), 'Vienna': (1921641, 'Austria'), 'Graz': (290571, 'Austria'), 'Salzburg': (155031, 'Austria')}\n"
     ]
    }
   ],
   "source": [
    "print(city_population_sorted_by_country)"
   ]
  },
  {
   "cell_type": "code",
   "execution_count": 18,
   "id": "b4264ddf",
   "metadata": {},
   "outputs": [
    {
     "name": "stdout",
     "output_type": "stream",
     "text": [
      "{'Berlin': (3769495, 'Germany'), 'Paris': (2161000, 'France'), 'Vienna': (1921641, 'Austria'), 'Hamburg': (1841179, 'Germany'), 'Amsterdam': (872680, 'Netherlands'), 'Rotterdam': (651446, 'Netherlands'), 'Stuttgart': (634830, 'Germany'), 'Zurich': (415215, 'Switzerland'), 'Graz': (290571, 'Austria'), 'Strasbourg': (280966, 'France'), 'Freiburg': (230241, 'Germany'), 'Geneva': (201818, 'Switzerland'), 'Basel': (178128, 'Switzerland'), 'Salzburg': (155031, 'Austria'), 'Luxembourg City': (124528, 'Luxembourg'), 'Metz': (117619, 'France')}\n"
     ]
    }
   ],
   "source": [
    "print(city_population_sorted_by_population)"
   ]
  },
  {
   "cell_type": "code",
   "execution_count": 19,
   "id": "920d74df",
   "metadata": {},
   "outputs": [
    {
     "name": "stdout",
     "output_type": "stream",
     "text": [
      "defaultdict(<class 'list'>, {'Germany': [('Berlin', 3769495), ('Hamburg', 1841179), ('Stuttgart', 634830), ('Freiburg', 230241)], 'France': [('Paris', 2161000), ('Strasbourg', 280966), ('Metz', 117619)], 'Austria': [('Vienna', 1921641), ('Graz', 290571), ('Salzburg', 155031)], 'Netherlands': [('Amsterdam', 872680), ('Rotterdam', 651446)], 'Switzerland': [('Zurich', 415215), ('Geneva', 201818), ('Basel', 178128)], 'Luxembourg': [('Luxembourg City', 124528)]})\n",
      "{'Germany': [('Berlin', 3769495), ('Freiburg', 230241), ('Hamburg', 1841179), ('Stuttgart', 634830)], 'France': [('Metz', 117619), ('Paris', 2161000), ('Strasbourg', 280966)], 'Austria': [('Graz', 290571), ('Salzburg', 155031), ('Vienna', 1921641)], 'Netherlands': [('Amsterdam', 872680), ('Rotterdam', 651446)], 'Switzerland': [('Basel', 178128), ('Geneva', 201818), ('Zurich', 415215)], 'Luxembourg': [('Luxembourg City', 124528)]}\n"
     ]
    }
   ],
   "source": [
    "'''\n",
    "DICTIONARY RE-GROUPING BASED ON THE VALUE INSTEAD OF KEY\n",
    "\n",
    "To group cities by country, you can build a new dictionary where each country is a key, \n",
    "and the value is a list of tuples with the form (city, population)\n",
    "\n",
    "\n",
    "    # key = country_capital: values = population, country\n",
    "to\n",
    "    # key = country: values = country_capital, population\n",
    "'''\n",
    "\n",
    "\n",
    "from collections import defaultdict\n",
    "\n",
    "grouped_by_country = defaultdict(list)\n",
    "\n",
    "for city, (population, country) in city_population.items():\n",
    "    grouped_by_country[country].append((city, population))\n",
    "    \n",
    "print(grouped_by_country)\n",
    "\n",
    "# Optional: sort cities within each country alphabetically\n",
    "for country in grouped_by_country:\n",
    "    grouped_by_country[country].sort()\n",
    "\n",
    "# Convert defaultdict to regular dict (OPTIONAL)\n",
    "grouped_by_country = dict(grouped_by_country)\n",
    "\n",
    "print(grouped_by_country)"
   ]
  },
  {
   "cell_type": "code",
   "execution_count": null,
   "id": "d0e9c0e4",
   "metadata": {},
   "outputs": [],
   "source": [
    "for country, cities in (grouped_by_country.items()):\n",
    "    print(f\"{country}:\")\n",
    "    for city, population in cities:\n",
    "        print(f\"  {city}: {population}\")"
   ]
  },
  {
   "cell_type": "code",
   "execution_count": 22,
   "id": "c9b6d6a3",
   "metadata": {},
   "outputs": [
    {
     "name": "stdout",
     "output_type": "stream",
     "text": [
      "Austria:\n",
      "  Graz: 290571\n",
      "  Salzburg: 155031\n",
      "  Vienna: 1921641\n",
      "France:\n",
      "  Metz: 117619\n",
      "  Paris: 2161000\n",
      "  Strasbourg: 280966\n",
      "Germany:\n",
      "  Berlin: 3769495\n",
      "  Freiburg: 230241\n",
      "  Hamburg: 1841179\n",
      "  Stuttgart: 634830\n",
      "Luxembourg:\n",
      "  Luxembourg City: 124528\n",
      "Netherlands:\n",
      "  Amsterdam: 872680\n",
      "  Rotterdam: 651446\n",
      "Switzerland:\n",
      "  Basel: 178128\n",
      "  Geneva: 201818\n",
      "  Zurich: 415215\n"
     ]
    }
   ],
   "source": [
    "'''\n",
    "    # key = country_capital: values = population, country\n",
    "to\n",
    "    # key = country: values = country_capital (in alphabetical order), population\n",
    "'''\n",
    "\n",
    "for country, cities in sorted(grouped_by_country.items()):\n",
    "    print(f\"{country}:\")\n",
    "    for city, population in cities:\n",
    "        print(f\"  {city}: {population}\")"
   ]
  },
  {
   "cell_type": "code",
   "execution_count": 24,
   "id": "10649280",
   "metadata": {},
   "outputs": [
    {
     "name": "stdout",
     "output_type": "stream",
     "text": [
      "Austria:\n",
      "  Vienna: 1921641\n",
      "  Graz: 290571\n",
      "  Salzburg: 155031\n",
      "France:\n",
      "  Paris: 2161000\n",
      "  Strasbourg: 280966\n",
      "  Metz: 117619\n",
      "Germany:\n",
      "  Berlin: 3769495\n",
      "  Hamburg: 1841179\n",
      "  Stuttgart: 634830\n",
      "  Freiburg: 230241\n",
      "Luxembourg:\n",
      "  Luxembourg City: 124528\n",
      "Netherlands:\n",
      "  Amsterdam: 872680\n",
      "  Rotterdam: 651446\n",
      "Switzerland:\n",
      "  Zurich: 415215\n",
      "  Geneva: 201818\n",
      "  Basel: 178128\n"
     ]
    }
   ],
   "source": [
    "'''\n",
    "    # key = country_capital: values = population, country\n",
    "to\n",
    "    # key = country: values = country_capital, population  (in decreasing order)\n",
    "'''\n",
    "from collections import defaultdict\n",
    "\n",
    "# Step 1: Group by country\n",
    "grouped_by_country = defaultdict(list)\n",
    "for city, (population, country) in city_population.items():\n",
    "    grouped_by_country[country].append((city, population))\n",
    "\n",
    "# Step 2: Sort cities within each country by population (descending)\n",
    "for country in grouped_by_country:\n",
    "    grouped_by_country[country].sort(key=lambda x: x[1], reverse=True)\n",
    "\n",
    "# Step 3: Convert to a regular dict and sort countries alphabetically\n",
    "grouped_by_country = dict(sorted(grouped_by_country.items()))\n",
    "\n",
    "for country, cities in (grouped_by_country.items()):\n",
    "    print(f\"{country}:\")\n",
    "    for city, population in cities:\n",
    "        print(f\"  {city}: {population}\")"
   ]
  },
  {
   "cell_type": "code",
   "execution_count": 33,
   "id": "d1155490",
   "metadata": {},
   "outputs": [
    {
     "name": "stdout",
     "output_type": "stream",
     "text": [
      "{'Diana': 95, 'Charlie': 78, 'Bob': 92, 'Alice': 85}\n",
      "{'Diana': 95, 'Bob': 92, 'Alice': 85, 'Charlie': 78}\n"
     ]
    },
    {
     "data": {
      "text/plain": [
       "'\\ncity_population_sorted = dict(sorted(city_population.items()))\\n\\ncity_population_sorted_by_country = dict(\\n    sorted(city_population.items(), key=lambda item: item[1][1], reverse = True)\\n)'"
      ]
     },
     "execution_count": 33,
     "metadata": {},
     "output_type": "execute_result"
    }
   ],
   "source": [
    "student_marks = {\n",
    "    \"Alice\": 85,\n",
    "    \"Bob\": 92,\n",
    "    \"Charlie\": 78,\n",
    "    \"Diana\": 95\n",
    "}\n",
    "\n",
    "student_marks_key_rev = dict(sorted(student_marks.items(), reverse = True))\n",
    "student_marks_first = dict(sorted(student_marks.items(), key = lambda item:item[1], reverse = True))\n",
    "print(student_marks_key_rev)\n",
    "print(student_marks_first)\n",
    "                           \n",
    "\n",
    "'''\n",
    "city_population_sorted = dict(sorted(city_population.items()))\n",
    "\n",
    "city_population_sorted_by_country = dict(\n",
    "    sorted(city_population.items(), key=lambda item: item[1][1], reverse = True)\n",
    ")'''"
   ]
  },
  {
   "cell_type": "code",
   "execution_count": 41,
   "id": "19379def",
   "metadata": {},
   "outputs": [
    {
     "name": "stdout",
     "output_type": "stream",
     "text": [
      "{'Bob': {'Math': 92, 'Science': 88, 'English': 95}, 'Alice': {'Math': 85, 'Science': 90, 'English': 88}, 'Charlie': {'Math': 78, 'Science': 80, 'English': 75}} \n",
      "\n",
      "Bob: English = 95, All Subjects = {'Math': 92, 'Science': 88, 'English': 95}\n",
      "Alice: English = 88, All Subjects = {'Math': 85, 'Science': 90, 'English': 88}\n",
      "Charlie: English = 75, All Subjects = {'Math': 78, 'Science': 80, 'English': 75}\n",
      "\n",
      " Bob:\n",
      "  Math: 92\n",
      "  Science: 88\n",
      "  English: 95\n",
      "\n",
      "\n",
      " Alice:\n",
      "  Math: 85\n",
      "  Science: 90\n",
      "  English: 88\n",
      "\n",
      "\n",
      " Charlie:\n",
      "  Math: 78\n",
      "  Science: 80\n",
      "  English: 75\n",
      "\n"
     ]
    }
   ],
   "source": [
    "student_grades = {\n",
    "    \"Alice\": {\"Math\": 85, \"Science\": 90, \"English\": 88},\n",
    "    \"Bob\": {\"Math\": 92, \"Science\": 88, \"English\": 95},\n",
    "    \"Charlie\": {\"Math\": 78, \"Science\": 80, \"English\": 75}\n",
    "}\n",
    "\n",
    "student_grades_sorted = dict(\n",
    "    sorted(student_grades.items(), key=lambda item: item[1][\"English\"], reverse=True)\n",
    ")\n",
    "\n",
    "print(student_grades_sorted,\"\\n\")\n",
    "\n",
    "for student, grades in student_grades_sorted.items():\n",
    "    print(f\"{student}: English = {grades['English']}, All Subjects = {grades}\")\n",
    "\n",
    "for student, grades in student_grades_sorted.items():\n",
    "    print(\"\\n\",f\"{student}:\\n  Math: {grades['Math']}\\n  Science: {grades['Science']}\\n  English: {grades['English']}\\n\")"
   ]
  },
  {
   "cell_type": "code",
   "execution_count": null,
   "id": "34a8f16e",
   "metadata": {},
   "outputs": [],
   "source": [
    "✅ When a Normal dict is Not Enough\n",
    "\n",
    "Here are the most common situations where a regular dictionary falls short and defaultdict shines:\n",
    "\n",
    "🔴 1. Avoiding KeyError When Accessing Missing Keys\n",
    "🚫 With a normal dict:\n",
    "d = {}\n",
    "d['apple'] += 1  # ❌ KeyError: 'apple'\n",
    "\n",
    "✅ With defaultdict(int):\n",
    "from collections import defaultdict\n",
    "d = defaultdict(int)\n",
    "d['apple'] += 1  # Works fine, auto-initializes 'apple' to 0\n",
    "\n",
    "🔴 2. Appending to a List per Key Without Checking\n",
    "🚫 With a normal dict:\n",
    "group = {}\n",
    "for fruit in ['apple', 'banana', 'apple']:\n",
    "    if fruit not in group:\n",
    "        group[fruit] = []\n",
    "    group[fruit].append(fruit)\n",
    "    \n",
    "   ✅ With defaultdict(list):\n",
    "from collections import defaultdict\n",
    "group = defaultdict(list)\n",
    "for fruit in ['apple', 'banana', 'apple']:\n",
    "    group[fruit].append(fruit)\n",
    "Use case: Grouping items, e.g., grouping anagrams, adjacency lists in graphs\n",
    "\n",
    "🔴 3. Working with Nested Dictionaries\n",
    "You want to avoid writing code like:\n",
    "if outer_key not in d:\n",
    "    d[outer_key] = {}\n",
    "if inner_key not in d[outer_key]:\n",
    "    d[outer_key][inner_key] = 0\n",
    "    \n",
    "✅ With defaultdict(lambda: defaultdict(int)):\n",
    "from collections import defaultdict\n",
    "\n",
    "d = defaultdict(lambda: defaultdict(int))\n",
    "d['outer']['inner'] += 1  # Works safely\n",
    "Use case: 2D maps, counters by category, etc.\n",
    "\n",
    "🔴 4. Cleaner Looping and Counting\n",
    "Instead of this:\n",
    "    word_counts = {}\n",
    "    for word in words:\n",
    "        if word not in word_counts:\n",
    "            word_counts[word] = 1\n",
    "        else:\n",
    "            word_counts[word] += 1\n",
    "            \n",
    "just Use\n",
    "from collections import defaultdict\n",
    "word_counts = defaultdict(int)\n",
    "for word in words:\n",
    "    word_counts[word] += 1\n",
    "\n",
    "| Scenario                           | Use `defaultdict`? | Why?                          |\n",
    "| ---------------------------------- | ------------------ | ----------------------------- |\n",
    "| Counting items (like word freq)    | ✅ Yes              | Auto-inits to `0`             |\n",
    "| Grouping into lists/sets           | ✅ Yes              | Auto-inits to `[]` or `set()` |\n",
    "| Graphs / adjacency lists           | ✅ Yes              | Clean edges appending         |\n",
    "| Avoiding multiple if-not-in checks | ✅ Yes              | Cleaner & more readable       |\n",
    "| You control all keys manually      | ❌ Not necessary    | Regular `dict` is fine        |\n"
   ]
  },
  {
   "cell_type": "code",
   "execution_count": 45,
   "id": "18f98d2c",
   "metadata": {},
   "outputs": [
    {
     "name": "stdout",
     "output_type": "stream",
     "text": [
      "{'apple': ['apple', 'apple'], 'banana': ['banana']}\n"
     ]
    }
   ],
   "source": [
    "group = {}\n",
    "for fruit in ['apple', 'banana', 'apple']:\n",
    "    if fruit not in group:\n",
    "        group[fruit] = []\n",
    "    group[fruit].append(fruit)\n",
    "\n",
    "print(group)"
   ]
  },
  {
   "cell_type": "code",
   "execution_count": 47,
   "id": "64824334",
   "metadata": {},
   "outputs": [
    {
     "name": "stdout",
     "output_type": "stream",
     "text": [
      "defaultdict(<class 'list'>, {'apple': ['apple', 'apple'], 'banana': ['banana']})\n"
     ]
    }
   ],
   "source": [
    "del group\n",
    "\n",
    "#   ✅ With defaultdict(list):\n",
    "from collections import defaultdict\n",
    "group = defaultdict(list)\n",
    "for fruit in ['apple', 'banana', 'apple']:\n",
    "    group[fruit].append(fruit)\n",
    "print(group)"
   ]
  },
  {
   "cell_type": "code",
   "execution_count": 1,
   "id": "8275735b",
   "metadata": {},
   "outputs": [
    {
     "name": "stdout",
     "output_type": "stream",
     "text": [
      "1\n"
     ]
    }
   ],
   "source": [
    "from collections import defaultdict\n",
    "d = defaultdict(int)\n",
    "d['apple'] += 1  # Works fine, auto-initializes 'apple' to 0\n",
    "\n",
    "print(d['apple'])"
   ]
  },
  {
   "cell_type": "code",
   "execution_count": 2,
   "id": "cec657d6",
   "metadata": {},
   "outputs": [
    {
     "name": "stdout",
     "output_type": "stream",
     "text": [
      "defaultdict(<class 'int'>, {'apple': 1})\n"
     ]
    }
   ],
   "source": [
    "print(d)"
   ]
  },
  {
   "cell_type": "code",
   "execution_count": 3,
   "id": "bf70e198",
   "metadata": {},
   "outputs": [
    {
     "name": "stdout",
     "output_type": "stream",
     "text": [
      "Drawing red circle\n",
      "Drawing red circle\n",
      "Drawing red circle\n"
     ]
    }
   ],
   "source": [
    "'''\n",
    "\n",
    "The underscore (_) in Python is a convention that represents a throwaway variable—a value you're not going to use.\n",
    "\n",
    "✅ When to use _:\n",
    "When the loop variable is not needed.\n",
    "\n",
    "When unpacking values but ignoring some parts:\n",
    "    x, _, y = (1, 2, 3)  # ignore the middle value\n",
    "#--\n",
    "'''\n",
    "\n",
    "colors = {'red': 3}\n",
    "for _ in range(colors['red']):\n",
    "    print(\"Drawing red circle\")  # prints 3 times    \n",
    "    "
   ]
  },
  {
   "cell_type": "code",
   "execution_count": null,
   "id": "c49196e7",
   "metadata": {},
   "outputs": [],
   "source": []
  }
 ],
 "metadata": {
  "kernelspec": {
   "display_name": "Python 3 (ipykernel)",
   "language": "python",
   "name": "python3"
  },
  "language_info": {
   "codemirror_mode": {
    "name": "ipython",
    "version": 3
   },
   "file_extension": ".py",
   "mimetype": "text/x-python",
   "name": "python",
   "nbconvert_exporter": "python",
   "pygments_lexer": "ipython3",
   "version": "3.11.8"
  }
 },
 "nbformat": 4,
 "nbformat_minor": 5
}
