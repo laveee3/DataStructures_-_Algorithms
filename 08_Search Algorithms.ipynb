{
 "cells": [
  {
   "cell_type": "code",
   "execution_count": 1,
   "id": "012d7def",
   "metadata": {},
   "outputs": [
    {
     "name": "stdout",
     "output_type": "stream",
     "text": [
      "Random array: [49, 2, 78, 54, 88, 8, 55, 49, 61, 49]\n"
     ]
    }
   ],
   "source": [
    "import random\n",
    "\n",
    "random_array = [random.randint(1, 100) for _ in range(10)]\n",
    "print(\"Random array:\", random_array)\n",
    "\n",
    "arr = []"
   ]
  },
  {
   "cell_type": "code",
   "execution_count": null,
   "id": "6a25a579",
   "metadata": {},
   "outputs": [],
   "source": [
    "print(int(input(\"Enter number to be searched : \")))"
   ]
  },
  {
   "cell_type": "code",
   "execution_count": 44,
   "id": "bccfa464",
   "metadata": {},
   "outputs": [
    {
     "name": "stdout",
     "output_type": "stream",
     "text": [
      "Enter number to be searched : 31\n"
     ]
    }
   ],
   "source": [
    "target = int(input(\"Enter number to be searched : \"))"
   ]
  },
  {
   "cell_type": "code",
   "execution_count": 45,
   "id": "7db7f3a0",
   "metadata": {},
   "outputs": [
    {
     "name": "stdout",
     "output_type": "stream",
     "text": [
      "The target number 61 is found in array at index 9\n"
     ]
    }
   ],
   "source": [
    "arr = random_array\n",
    "\n",
    "def linear_search(arr, target):\n",
    "    count = 0\n",
    "    for i in arr:\n",
    "        if i == target:\n",
    "            print(\"The target number %d is found in array at index %d\" % (target, count))\n",
    "            return\n",
    "        count = count + 1\n",
    "    print(\"The target number %d is not found in array\" % (target))\n",
    "    return\n",
    "linear_search(arr, 61)"
   ]
  },
  {
   "cell_type": "code",
   "execution_count": 46,
   "id": "a9749345",
   "metadata": {},
   "outputs": [
    {
     "name": "stdout",
     "output_type": "stream",
     "text": [
      "The target number 31 is found in array\n"
     ]
    }
   ],
   "source": [
    "def binary_search(arr, target):\n",
    "    arr = sorted(random_array)\n",
    "    mid_val = arr[len(arr)//2]\n",
    "    mid_idx = len(arr)//2\n",
    "    if target < mid_val:\n",
    "        for i in (arr[:mid_idx]):\n",
    "            if target == i:\n",
    "                print(\"The target number %d is found in array\" % (target))\n",
    "                return\n",
    "    else:\n",
    "        for i in (arr[mid_idx:]):\n",
    "            if target == i:\n",
    "                print(\"The target number %d is found in array\" % (target))\n",
    "                return\n",
    "    print(\"The target number %d is not found in array\" % (target))\n",
    "    return\n",
    "\n",
    "binary_search(arr,target)"
   ]
  },
  {
   "cell_type": "code",
   "execution_count": 40,
   "id": "8092cb33",
   "metadata": {},
   "outputs": [
    {
     "name": "stdout",
     "output_type": "stream",
     "text": [
      "Random array: [37, 91, 62, 99, 57, 52, 31, 92, 41, 61]\n"
     ]
    }
   ],
   "source": [
    "random_array = [random.randint(1, 100) for _ in range(10)]\n",
    "print(\"Random array:\", random_array)"
   ]
  },
  {
   "cell_type": "code",
   "execution_count": 58,
   "id": "838343ce",
   "metadata": {},
   "outputs": [
    {
     "name": "stdout",
     "output_type": "stream",
     "text": [
      "Array: [37, 91, 62, 99, 57, 52, 31, 92, 41, 61]\n",
      "The target number 91 is found at index 1\n"
     ]
    }
   ],
   "source": [
    "def short_long(arr, target):\n",
    "    print(\"Array:\", arr)\n",
    "    short = 0\n",
    "    long = len(arr) - 1\n",
    "\n",
    "    while short <= long:\n",
    "        if arr[short] == target:\n",
    "            print(f\"The target number {target} is found at index {short}\")\n",
    "            return\n",
    "        if arr[long] == target:\n",
    "            print(f\"The target number {target} is found at index {long}\")\n",
    "            return\n",
    "        short += 1\n",
    "        long -= 1\n",
    "\n",
    "    print(f\"The target number {target} is not found in the array\")\n",
    "\n",
    "\n",
    "short_long(arr, 91)   "
   ]
  },
  {
   "cell_type": "code",
   "execution_count": 61,
   "id": "18093e10",
   "metadata": {},
   "outputs": [
    {
     "name": "stdout",
     "output_type": "stream",
     "text": [
      "(2, 1)\n",
      "False\n"
     ]
    }
   ],
   "source": [
    "'''\n",
    "To search for a target number in a 2D sorted array, you can use a very efficient algorithm that exploits the sorted row and column property.\n",
    "\n",
    "Assumptions:\n",
    "Each row is sorted left to right.\n",
    "Each column is sorted top to bottom. \n",
    "\n",
    "Efficient Algorithm (O(m + n) Time)\n",
    "Start from top-right or bottom-left corner, and eliminate a row or column on each step.\n",
    "\n",
    "Time and Space Complexity:\n",
    "Time: O(m + n)\n",
    "Space: O(1) — no extra space used\n",
    "'''\n",
    "\n",
    "def search_in_2d_sorted_matrix(matrix, target):\n",
    "    if not matrix or not matrix[0]:\n",
    "        return False\n",
    "\n",
    "    rows = len(matrix)\n",
    "    cols = len(matrix[0])\n",
    "\n",
    "    row = 0\n",
    "    col = cols - 1  # Start from top-right corner\n",
    "\n",
    "    while row < rows and col >= 0:\n",
    "        current = matrix[row][col]\n",
    "        if current == target:\n",
    "            #return True\n",
    "            return (row, col)  # if the index needs to be known\n",
    "        elif current > target:\n",
    "            col -= 1  # Move left\n",
    "        else:\n",
    "            row += 1  # Move down\n",
    "\n",
    "    return False\n",
    "\n",
    "matrix = [\n",
    "    [10, 20, 30, 40],\n",
    "    [15, 25, 35, 45],\n",
    "    [27, 29, 37, 48],\n",
    "    [32, 33, 39, 50]\n",
    "]\n",
    "\n",
    "print(search_in_2d_sorted_matrix(matrix, 29))  # ✅ True\n",
    "print(search_in_2d_sorted_matrix(matrix, 100)) # ❌ False\n"
   ]
  },
  {
   "cell_type": "code",
   "execution_count": 62,
   "id": "6beb0937",
   "metadata": {},
   "outputs": [],
   "source": [
    "'''\n",
    "To search for a target number in a 2D sorted array\n",
    "Recursive Binary Search on 2D Matrix\n",
    "Time and Space Complexity:\n",
    "Time: O(log (m × n))\n",
    "Space: O(log (m × n)) — due to recursion stack\n",
    "'''\n",
    "\n",
    "def binary_search_2d_recursive(matrix, target):\n",
    "    if not matrix or not matrix[0]:\n",
    "        return None\n",
    "\n",
    "    rows, cols = len(matrix), len(matrix[0])\n",
    "\n",
    "    def search(low, high):\n",
    "        if low > high:\n",
    "            return None\n",
    "\n",
    "        mid = (low + high) // 2\n",
    "        row, col = divmod(mid, cols)\n",
    "        value = matrix[row][col]\n",
    "\n",
    "        if value == target:\n",
    "            return (row, col)\n",
    "        elif value < target:\n",
    "            return search(mid + 1, high)\n",
    "        else:\n",
    "            return search(low, mid - 1)\n",
    "\n",
    "    return search(0, rows * cols - 1)\n",
    "\n",
    "'''\n",
    "Binary Search on 2D Matrix (Flattened Indexing)\n",
    "Time and Space Complexity:\n",
    "Time: O(log (m × n)) → efficient even for large matrices\n",
    "Space: O(1)\n",
    "'''\n",
    "\n",
    "def binary_search_2d(matrix, target):\n",
    "    if not matrix or not matrix[0]:\n",
    "        return None\n",
    "\n",
    "    rows, cols = len(matrix), len(matrix[0])\n",
    "    low, high = 0, rows * cols - 1\n",
    "\n",
    "    while low <= high:\n",
    "        mid = (low + high) // 2\n",
    "        row = mid // cols\n",
    "        col = mid % cols\n",
    "        value = matrix[row][col]\n",
    "\n",
    "        if value == target:\n",
    "            return (row, col)\n",
    "        elif value < target:\n",
    "            low = mid + 1\n",
    "        else:\n",
    "            high = mid - 1\n",
    "\n",
    "    return None  # Target not found"
   ]
  },
  {
   "cell_type": "code",
   "execution_count": 67,
   "id": "eeed412b",
   "metadata": {},
   "outputs": [
    {
     "name": "stdout",
     "output_type": "stream",
     "text": [
      "Min: 1\n",
      "Max: 99\n"
     ]
    },
    {
     "data": {
      "text/plain": [
       "'\\n# simple linear search  ; Naive: ~2(n−1) comparisons\\n\\ndef find_min_max(arr):\\n    if not arr:\\n        return None, None\\n\\n    min_val = max_val = arr[0]\\n\\n    for num in arr[1:]:\\n        if num < min_val:\\n            min_val = num\\n        elif num > max_val:\\n            max_val = num\\n\\n    return min_val, max_val\\n\\n'"
      ]
     },
     "execution_count": 67,
     "metadata": {},
     "output_type": "execute_result"
    }
   ],
   "source": [
    "'''\n",
    "\n",
    "FIND MIN and MAX in UNSORTED ARRAY\n",
    "\n",
    "Reduces comparisons to ~1.5 * n (vs 2n in naive version)\n",
    "Compare elements in pairs: one is smaller, one is larger\n",
    "Compare each to current min or max\n",
    "\n",
    "Complexity:\n",
    "Time: O(n)\n",
    "Comparisons:\n",
    "Naive: ~2(n−1)\n",
    "Pairwise: ~1.5n (better for large arrays)\n",
    "\n",
    "Core Idea of Pairwise Method:\n",
    "Instead of comparing each element to both the current min and max (2 comparisons), we:\n",
    "Compare two elements to each other — 1 comparison\n",
    "Then:\n",
    "\tThe smaller one is compared to the current min\n",
    "\tThe larger one is compared to the current max\n",
    "\t➡️ Total = 3 comparisons for 2 elements, or 1.5 comparisons per element\n",
    "\n",
    "\n",
    "In the Optimized Pairwise Method for finding the min and max in an unsorted array, we check elements in pairs to reduce the number of comparisons. \n",
    "Here's why we treat odd and even length arrays differently. \n",
    " The Goal: Reduce the number of comparisons from 2(n−1) in the naive method to approximately 1.5n.\n",
    "\n",
    "Why is Length Important?\n",
    "✅ For Even-Length Arrays:\n",
    "Every element can be cleanly paired.\n",
    "Example: n = 6 → 3 pairs → 3 × 3 = 9 comparisons\n",
    "\n",
    "✅ For Odd-Length Arrays:\n",
    "One element is left unpaired at the end.\n",
    "That lone element must be individually compared to both min and max (2 comparisons).\n",
    "\n",
    "So We Do This:\n",
    "Even: Initialize min and max using the first two elements\n",
    "Odd: Initialize min and max using the first element, and start pairing from the second\n",
    "\n",
    "This ensures:\n",
    "We don’t miss any elements\n",
    "We minimize total comparisons while keeping logic safe.\n",
    "\n",
    "'''\n",
    "\n",
    "def find_min_max_pairwise(arr):\n",
    "    if not arr:\n",
    "        return None, None\n",
    "\n",
    "    n = len(arr)\n",
    "\n",
    "    if n % 2 == 0:\n",
    "        # Even number of elements: start with first two\n",
    "        if arr[0] < arr[1]:\n",
    "            min_val, max_val = arr[0], arr[1]\n",
    "        else:\n",
    "            min_val, max_val = arr[1], arr[0]\n",
    "        i = 2\n",
    "    else:\n",
    "        # Odd number of elements: start with first element\n",
    "        min_val = max_val = arr[0]\n",
    "        i = 1\n",
    "\n",
    "    while i < n - 1:\n",
    "        if arr[i] < arr[i + 1]:\n",
    "            min_val = min(min_val, arr[i])\n",
    "            max_val = max(max_val, arr[i + 1])\n",
    "        else:\n",
    "            min_val = min(min_val, arr[i + 1])\n",
    "            max_val = max(max_val, arr[i])\n",
    "        i += 2\n",
    "\n",
    "    return min_val, max_val\n",
    "\n",
    "arr = [12, 3, 45, 7, 22, 1, 99]\n",
    "min_val, max_val = find_min_max_pairwise(arr)\n",
    "print(\"Min:\", min_val)\n",
    "print(\"Max:\", max_val)\n",
    "\n",
    "\n",
    "'''\n",
    "# simple linear search  ; Naive: ~2(n−1) comparisons\n",
    "\n",
    "def find_min_max(arr):\n",
    "    if not arr:\n",
    "        return None, None\n",
    "\n",
    "    min_val = max_val = arr[0]\n",
    "\n",
    "    for num in arr[1:]:\n",
    "        if num < min_val:\n",
    "            min_val = num\n",
    "        elif num > max_val:\n",
    "            max_val = num\n",
    "\n",
    "    return min_val, max_val\n",
    "\n",
    "'''"
   ]
  },
  {
   "cell_type": "code",
   "execution_count": 68,
   "id": "da21af1c",
   "metadata": {},
   "outputs": [
    {
     "name": "stdout",
     "output_type": "stream",
     "text": [
      "The 3rd largest element is: 10\n"
     ]
    }
   ],
   "source": [
    "import random\n",
    "\n",
    "def quickselect(arr, k):\n",
    "    if not arr:\n",
    "        return None\n",
    "\n",
    "    # Convert kth largest to index for kth smallest\n",
    "    k_smallest = len(arr) - k\n",
    "\n",
    "    def select(left, right):\n",
    "        if left == right:\n",
    "            return arr[left]\n",
    "\n",
    "        # Random pivot to avoid worst-case\n",
    "        pivot_index = random.randint(left, right)\n",
    "        pivot_index = partition(left, right, pivot_index)\n",
    "\n",
    "        if k_smallest == pivot_index:\n",
    "            return arr[pivot_index]\n",
    "        elif k_smallest < pivot_index:\n",
    "            return select(left, pivot_index - 1)\n",
    "        else:\n",
    "            return select(pivot_index + 1, right)\n",
    "\n",
    "    def partition(left, right, pivot_index):\n",
    "        pivot_value = arr[pivot_index]\n",
    "        # Move pivot to end\n",
    "        arr[pivot_index], arr[right] = arr[right], arr[pivot_index]\n",
    "        store_index = left\n",
    "\n",
    "        for i in range(left, right):\n",
    "            if arr[i] < pivot_value:\n",
    "                arr[store_index], arr[i] = arr[i], arr[store_index]\n",
    "                store_index += 1\n",
    "\n",
    "        # Move pivot to its final place\n",
    "        arr[right], arr[store_index] = arr[store_index], arr[right]\n",
    "        return store_index\n",
    "\n",
    "    return select(0, len(arr) - 1)\n",
    "\n",
    "arr = [7, 10, 4, 3, 20, 15]\n",
    "k = 3\n",
    "result = quickselect(arr, k)\n",
    "print(f\"The {k}rd largest element is: {result}\")\n"
   ]
  },
  {
   "cell_type": "code",
   "execution_count": 69,
   "id": "f8fc8984",
   "metadata": {},
   "outputs": [],
   "source": [
    "import random\n",
    "\n",
    "def quickselect_kth_largest_debug(arr, k):\n",
    "    arr = arr.copy()  # Avoid mutating original input\n",
    "\n",
    "    def select(left, right, k_smallest):\n",
    "        if left == right:\n",
    "            print(f\"Found at index {left}: {arr[left]}\")\n",
    "            return arr[left]\n",
    "\n",
    "        pivot_index = random.randint(left, right)\n",
    "        print(f\"\\nSelecting pivot index {pivot_index} with value {arr[pivot_index]} from arr[{left}:{right + 1}]\")\n",
    "\n",
    "        pivot_index = partition(left, right, pivot_index)\n",
    "\n",
    "        print(f\"Partitioned around pivot to index {pivot_index}, pivot value {arr[pivot_index]}\")\n",
    "        print(f\"Current array: {arr[left:right+1]}\")\n",
    "\n",
    "        if k_smallest == pivot_index:\n",
    "            print(f\"Found kth smallest (=> kth largest) at index {pivot_index}: {arr[pivot_index]}\")\n",
    "            return arr[pivot_index]\n",
    "        elif k_smallest < pivot_index:\n",
    "            return select(left, pivot_index - 1, k_smallest)\n",
    "        else:\n",
    "            return select(pivot_index + 1, right, k_smallest)\n",
    "\n",
    "    def partition(left, right, pivot_index):\n",
    "        pivot = arr[pivot_index]\n",
    "        arr[pivot_index], arr[right] = arr[right], arr[pivot_index]  # Move pivot to end\n",
    "        store_index = left\n",
    "\n",
    "        for i in range(left, right):\n",
    "            if arr[i] < pivot:\n",
    "                arr[store_index], arr[i] = arr[i], arr[store_index]\n",
    "                store_index += 1\n",
    "\n",
    "        arr[right], arr[store_index] = arr[store_index], arr[right]\n",
    "        return store_index\n",
    "\n",
    "    n = len(arr)\n",
    "    if not (1 <= k <= n):\n",
    "        raise ValueError(\"k is out of bounds\")\n",
    "\n",
    "    # kth largest = (n - k)th smallest\n",
    "    k_smallest = n - k\n",
    "    print(f\"\\nStarting Quickselect to find the {k}th largest element (which is index {k_smallest} in sorted order)\")\n",
    "    return select(0, n - 1, k_smallest)\n"
   ]
  },
  {
   "cell_type": "code",
   "execution_count": 71,
   "id": "8b322e0b",
   "metadata": {},
   "outputs": [
    {
     "name": "stdout",
     "output_type": "stream",
     "text": [
      "\n",
      "Starting Quickselect to find the 3th largest element (which is index 3 in sorted order)\n",
      "\n",
      "Selecting pivot index 4 with value 15 from arr[0:6]\n",
      "Partitioned around pivot to index 4, pivot value 15\n",
      "Current array: [4, 3, 7, 10, 15, 20]\n",
      "\n",
      "Selecting pivot index 1 with value 3 from arr[0:4]\n",
      "Partitioned around pivot to index 0, pivot value 3\n",
      "Current array: [3, 10, 7, 4]\n",
      "\n",
      "Selecting pivot index 1 with value 10 from arr[1:4]\n",
      "Partitioned around pivot to index 3, pivot value 10\n",
      "Current array: [4, 7, 10]\n",
      "Found kth smallest (=> kth largest) at index 3: 10\n"
     ]
    },
    {
     "data": {
      "text/plain": [
       "10"
      ]
     },
     "execution_count": 71,
     "metadata": {},
     "output_type": "execute_result"
    }
   ],
   "source": [
    "quickselect_kth_largest_debug(arr, k)"
   ]
  },
  {
   "cell_type": "code",
   "execution_count": null,
   "id": "f425b910",
   "metadata": {},
   "outputs": [],
   "source": [
    "def quickselect_kth_smallest_hybrid(arr, k):\n",
    "    # Defensive copy to avoid mutating input\n",
    "    arr = arr.copy()\n",
    "\n",
    "    def select(left, right, k_smallest):\n",
    "        if left == right:\n",
    "            return arr[left]\n",
    "\n",
    "        pivot_index = random.randint(left, right)\n",
    "        pivot_index = partition(left, right, pivot_index)\n",
    "\n",
    "        if k_smallest == pivot_index:\n",
    "            return arr[pivot_index]\n",
    "        elif k_smallest < pivot_index:\n",
    "            return select(left, pivot_index - 1, k_smallest)\n",
    "        else:\n",
    "            return select(pivot_index + 1, right, k_smallest)\n",
    "\n",
    "    def partition(left, right, pivot_index):\n",
    "        pivot = arr[pivot_index]\n",
    "        arr[pivot_index], arr[right] = arr[right], arr[pivot_index]  # Move pivot to end\n",
    "        store_index = left\n",
    "\n",
    "        for i in range(left, right):\n",
    "            if arr[i] < pivot:\n",
    "                arr[store_index], arr[i] = arr[i], arr[store_index]\n",
    "                store_index += 1\n",
    "\n",
    "        arr[right], arr[store_index] = arr[store_index], arr[right]\n",
    "        return store_index\n",
    "\n",
    "    if not (1 <= k <= len(arr)):\n",
    "        raise ValueError(\"k is out of bounds\")\n",
    "\n",
    "    return select(0, len(arr) - 1, k - 1)  # Convert k to 0-based index\n"
   ]
  }
 ],
 "metadata": {
  "kernelspec": {
   "display_name": "Python 3 (ipykernel)",
   "language": "python",
   "name": "python3"
  },
  "language_info": {
   "codemirror_mode": {
    "name": "ipython",
    "version": 3
   },
   "file_extension": ".py",
   "mimetype": "text/x-python",
   "name": "python",
   "nbconvert_exporter": "python",
   "pygments_lexer": "ipython3",
   "version": "3.11.8"
  }
 },
 "nbformat": 4,
 "nbformat_minor": 5
}
