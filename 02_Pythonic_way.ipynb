{
 "cells": [
  {
   "cell_type": "code",
   "execution_count": 1,
   "id": "e1c41456",
   "metadata": {},
   "outputs": [
    {
     "name": "stdout",
     "output_type": "stream",
     "text": [
      "[12, 39, 50, 54, 65, 70, 102, 221, 339]\n",
      "[12, 39, 50, 54, 65, 70, 102, 221, 339]\n"
     ]
    }
   ],
   "source": [
    "my_list = [12, 65, 54, 39, 102, 339, 221, 50, 70]\n",
    "slist = my_list\n",
    "my_list.sort()\n",
    "print(my_list)\n",
    "sorted(slist)\n",
    "print(slist)"
   ]
  },
  {
   "cell_type": "code",
   "execution_count": 3,
   "id": "d28e157a",
   "metadata": {},
   "outputs": [
    {
     "name": "stdout",
     "output_type": "stream",
     "text": [
      "<map object at 0x000001D58B878850>\n"
     ]
    },
    {
     "data": {
      "text/plain": [
       "[1, 4, 9, 16, 25]"
      ]
     },
     "execution_count": 3,
     "metadata": {},
     "output_type": "execute_result"
    }
   ],
   "source": [
    "numbers = [1, 2, 3, 4, 5]\n",
    "def square(number):\n",
    "       return number ** 2\n",
    "\n",
    "squared = map(square, numbers)\n",
    "print(squared)                     # <map object at 0x000001D58B879090>\n",
    "list(squared)                      # [1, 4, 9, 16, 25]\n",
    "#print(list(squared))"
   ]
  },
  {
   "cell_type": "code",
   "execution_count": 3,
   "id": "227a73d2",
   "metadata": {},
   "outputs": [
    {
     "data": {
      "text/plain": [
       "[4, 8, 6, 5, 3, 2, 8, 9, 2, 5]"
      ]
     },
     "execution_count": 3,
     "metadata": {},
     "output_type": "execute_result"
    }
   ],
   "source": [
    "str_nums = [\"4\", \"8\", \"6\", \"5\", \"3\", \"2\", \"8\", \"9\", \"2\", \"5\"]\n",
    "int_nums = map(int, str_nums)\n",
    "list(int_nums)"
   ]
  },
  {
   "cell_type": "code",
   "execution_count": 15,
   "id": "567f08e3",
   "metadata": {},
   "outputs": [
    {
     "name": "stdout",
     "output_type": "stream",
     "text": [
      "[2, 1, 0, 1, 2]\n"
     ]
    },
    {
     "data": {
      "text/plain": [
       "[-2.0, -1.0, 0.0, 1.0, 2.0]"
      ]
     },
     "execution_count": 15,
     "metadata": {},
     "output_type": "execute_result"
    }
   ],
   "source": [
    "numbers = [-2, -1, 0, 1, 2]\n",
    "abs_values = list(map(abs, numbers))\n",
    "print(abs_values)\n",
    "list(map(float, numbers))"
   ]
  },
  {
   "cell_type": "code",
   "execution_count": 5,
   "id": "653160c8",
   "metadata": {},
   "outputs": [
    {
     "data": {
      "text/plain": [
       "[4, 1, 0, 1, 4]"
      ]
     },
     "execution_count": 5,
     "metadata": {},
     "output_type": "execute_result"
    }
   ],
   "source": [
    "list(map(lambda num: num ** 2, numbers))"
   ]
  },
  {
   "cell_type": "code",
   "execution_count": 13,
   "id": "d941fed5",
   "metadata": {},
   "outputs": [
    {
     "name": "stdout",
     "output_type": "stream",
     "text": [
      "['processing', 'strings', 'with', 'map']\n"
     ]
    }
   ],
   "source": [
    "with_dots = [\"processing..\", \"...strings\", \"with....\", \"..map..\"]\n",
    "\n",
    "# Using lambda to strip dots\n",
    "cleaned = list(map(lambda s: s.strip(\".\"), with_dots))\n",
    "\n",
    "print(cleaned)"
   ]
  },
  {
   "cell_type": "code",
   "execution_count": 10,
   "id": "b997a335",
   "metadata": {},
   "outputs": [
    {
     "data": {
      "text/plain": [
       "['processing', 'strings', 'with', 'map']"
      ]
     },
     "execution_count": 10,
     "metadata": {},
     "output_type": "execute_result"
    }
   ],
   "source": [
    "with_spaces = [\"processing \", \"  strings\", \"with   \", \" map   \"]\n",
    "list(map(str.strip, with_spaces))\n"
   ]
  },
  {
   "cell_type": "code",
   "execution_count": 11,
   "id": "b5bf7259",
   "metadata": {},
   "outputs": [
    {
     "data": {
      "text/plain": [
       "[\"cat's\", 'leg', \"is'\", 'hurt']"
      ]
     },
     "execution_count": 11,
     "metadata": {},
     "output_type": "execute_result"
    }
   ],
   "source": [
    "import re\n",
    "\n",
    "def remove_punctuation(word):\n",
    "    return re.sub(r'[!?.:'';,\"()-]', \"\", word)\n",
    "\n",
    "text = \"cat's leg is' hurt!\"\n",
    "words = text.split()\n",
    "list(map(remove_punctuation, words))"
   ]
  },
  {
   "cell_type": "code",
   "execution_count": 12,
   "id": "7b25897b",
   "metadata": {},
   "outputs": [
    {
     "name": "stdout",
     "output_type": "stream",
     "text": [
      "Original: Hello, World! Welcome to @2025.\n",
      "Cleaned : Hello World Welcome to 2025\n"
     ]
    }
   ],
   "source": [
    "import re\n",
    "\n",
    "def remove_special_characters(text):\n",
    "    # Only keep letters (a-z, A-Z), numbers (0-9), and spaces\n",
    "    cleaned_text = re.sub(r'[^A-Za-z0-9\\s]', '', text)\n",
    "    return cleaned_text\n",
    "\n",
    "# Example usage\n",
    "input_text = \"Hello, World! Welcome to @2025.\"\n",
    "result = remove_special_characters(input_text)\n",
    "print(\"Original:\", input_text)\n",
    "print(\"Cleaned :\", result)\n"
   ]
  },
  {
   "cell_type": "code",
   "execution_count": 13,
   "id": "8e67eb55",
   "metadata": {},
   "outputs": [
    {
     "name": "stdout",
     "output_type": "stream",
     "text": [
      "Original: [\"cat's\", 'leg', \"is'\", 'hurt!']\n",
      "Cleaned : ['cats', 'leg', 'is', 'hurt']\n"
     ]
    }
   ],
   "source": [
    "import re\n",
    "\n",
    "def remove_punctuation(word):\n",
    "    # Remove all punctuation characters using regex\n",
    "    return re.sub(r'[^\\w\\s]', '', word)\n",
    "\n",
    "text = \"cat's leg is' hurt!\"\n",
    "words = text.split()\n",
    "cleaned_words = list(map(remove_punctuation, words))\n",
    "\n",
    "print(\"Original:\", words)\n",
    "print(\"Cleaned :\", cleaned_words)"
   ]
  },
  {
   "cell_type": "code",
   "execution_count": 14,
   "id": "8792ff77",
   "metadata": {},
   "outputs": [
    {
     "name": "stdout",
     "output_type": "stream",
     "text": [
      "Alice scored 90 in Math\n",
      "Bob scored 88 in Science\n",
      "Charlie scored 75 in History\n"
     ]
    }
   ],
   "source": [
    "subjects = ['Math', 'Science', 'History']\n",
    "names = ['Alice', 'Bob', 'Charlie']\n",
    "scores = [90, 88, 75]\n",
    "\n",
    "for subject, name, score in zip(subjects, names, scores):\n",
    "    print(f\"{name} scored {score} in {subject}\")\n"
   ]
  },
  {
   "cell_type": "code",
   "execution_count": 15,
   "id": "466ab973",
   "metadata": {},
   "outputs": [
    {
     "name": "stdout",
     "output_type": "stream",
     "text": [
      "Tom\n",
      "{1: 'Tom', 2: 'Macy', 3: 'Sam'}\n"
     ]
    }
   ],
   "source": [
    "employees = {1: 'Tom', 2: 'Macy', 3: 'Sam'}\n",
    "print(employees.setdefault(1, 'Max'))\n",
    "print(employees)"
   ]
  },
  {
   "cell_type": "code",
   "execution_count": 16,
   "id": "d04f158e",
   "metadata": {},
   "outputs": [
    {
     "name": "stdout",
     "output_type": "stream",
     "text": [
      "[1, 4, 3, 6, 7]\n"
     ]
    }
   ],
   "source": [
    "test_list = ['1', '4', '3', '6', '7']\n",
    "int_list = [int(i) for i in test_list]\n",
    "print(int_list)"
   ]
  },
  {
   "cell_type": "code",
   "execution_count": 17,
   "id": "a7f3f415",
   "metadata": {},
   "outputs": [
    {
     "name": "stdout",
     "output_type": "stream",
     "text": [
      "Geeks-for-Geeks\n"
     ]
    }
   ],
   "source": [
    "Inpu =  ['Geeks', 'for', 'Geeks']\n",
    "str_list = '-'.join(Inpu)\n",
    "print(str_list)"
   ]
  },
  {
   "cell_type": "code",
   "execution_count": 18,
   "id": "13fc9941",
   "metadata": {},
   "outputs": [
    {
     "name": "stdout",
     "output_type": "stream",
     "text": [
      "Geeks for Geeks\n"
     ]
    }
   ],
   "source": [
    "str1=' '.join([str(elem) for elem in Inpu])\n",
    "print(str1)"
   ]
  },
  {
   "cell_type": "code",
   "execution_count": 19,
   "id": "662ffc69",
   "metadata": {},
   "outputs": [
    {
     "name": "stdout",
     "output_type": "stream",
     "text": [
      "Geeks for Geeks\n"
     ]
    }
   ],
   "source": [
    "str2=' '.join(map(str, Inpu))\n",
    "print(str2)"
   ]
  },
  {
   "cell_type": "code",
   "execution_count": 20,
   "id": "53ceadd7",
   "metadata": {},
   "outputs": [
    {
     "name": "stdout",
     "output_type": "stream",
     "text": [
      "Geeks for Geeks\n"
     ]
    }
   ],
   "source": [
    "from functools import reduce\n",
    "s = Inpu\n",
    "print(reduce(lambda a, b : a+ \" \" +str(b), s))\n"
   ]
  },
  {
   "cell_type": "code",
   "execution_count": 21,
   "id": "b304858e",
   "metadata": {},
   "outputs": [
    {
     "name": "stdout",
     "output_type": "stream",
     "text": [
      "g\n",
      "a\n",
      "n\n",
      "d\n",
      "h\n",
      "i\n",
      " \n",
      "i\n",
      "s\n",
      " \n",
      "M\n",
      "a\n",
      "h\n",
      "a\n",
      "t\n",
      "m\n",
      "a\n",
      "['g', 'a', 'n', 'd', 'h', 'i', ' ', 'i', 's', ' ', 'M', 'a', 'h', 'a', 't', 'm', 'a']\n"
     ]
    }
   ],
   "source": [
    "say = \"gandhi is Mahatma\"\n",
    "s1 = []\n",
    "for i in say:\n",
    "    print(i)\n",
    "    s1.append(i)\n",
    "print(s1)"
   ]
  },
  {
   "cell_type": "code",
   "execution_count": 22,
   "id": "baf1a836",
   "metadata": {},
   "outputs": [
    {
     "name": "stdout",
     "output_type": "stream",
     "text": [
      "['g', 'a', 'n', 'd', 'h', 'i', ' ', 'i', 's', ' ', 'M', 'a', 'h', 'a', 't', 'm', 'a']\n"
     ]
    }
   ],
   "source": [
    "x=[i for i in say]\n",
    "print(x)\n"
   ]
  },
  {
   "cell_type": "code",
   "execution_count": 23,
   "id": "f679beea",
   "metadata": {},
   "outputs": [
    {
     "name": "stdout",
     "output_type": "stream",
     "text": [
      "71\n"
     ]
    }
   ],
   "source": [
    "a = \"5\"\n",
    "b = \"66\"\n",
    "c = int(a) + int(b)\n",
    "c = str(c)\n",
    "print(str(c))"
   ]
  },
  {
   "cell_type": "code",
   "execution_count": 24,
   "id": "ecb63257",
   "metadata": {},
   "outputs": [
    {
     "name": "stdout",
     "output_type": "stream",
     "text": [
      "2 1\n",
      "2 5\n",
      "6 1\n",
      "3\n"
     ]
    }
   ],
   "source": [
    "import math\n",
    "\n",
    "# Function to count pairs(x, y) where x ^ y > y ^ x\n",
    "def count_pairs(X, Y):\n",
    "    ans = 0\n",
    "    # Iterate over all the possible pairs\n",
    "    for x in X:\n",
    "        for y in Y:\n",
    "            # If x ^ y > y ^ x, increment ans\n",
    "            if math.pow(x, y) > math.pow(y, x):\n",
    "                ans += 1\n",
    "                print(x,y)\n",
    "    return ans\n",
    "\n",
    "\n",
    "# Sample Input\n",
    "X = [2, 1, 6]\n",
    "Y = [1, 5]\n",
    "\n",
    "print(count_pairs(X, Y))"
   ]
  },
  {
   "cell_type": "code",
   "execution_count": 25,
   "id": "c1220a79",
   "metadata": {},
   "outputs": [
    {
     "name": "stdout",
     "output_type": "stream",
     "text": [
      "{1, 2, 3, 4}\n",
      "[2, 4]\n"
     ]
    }
   ],
   "source": [
    "arr1 = [1, 2, 3, 4]\n",
    "arr2 = [2, 4, 6, 7, 8]\n",
    "a1 = set(arr1)\n",
    "a2 = set(arr2)\n",
    "print(a1)\n",
    "c = a1.intersection(a2)\n",
    "c = list(c)\n",
    "print(c)\n",
    "\n"
   ]
  },
  {
   "cell_type": "code",
   "execution_count": 26,
   "id": "6d0b1b3e",
   "metadata": {},
   "outputs": [
    {
     "name": "stdout",
     "output_type": "stream",
     "text": [
      "[4, 3, 2, 1]\n"
     ]
    }
   ],
   "source": [
    "arr1.reverse()\n",
    "print(arr1)"
   ]
  },
  {
   "cell_type": "code",
   "execution_count": 10,
   "id": "fa1a7dc2",
   "metadata": {},
   "outputs": [
    {
     "name": "stdout",
     "output_type": "stream",
     "text": [
      "[4, 3, 2, 1]\n"
     ]
    }
   ],
   "source": [
    "arr1 = [1, 2, 3, 4]\n",
    "#print(arr1)\n",
    "b=arr1[::-1]\n",
    "print(b)"
   ]
  },
  {
   "cell_type": "code",
   "execution_count": 28,
   "id": "d3556eb3",
   "metadata": {},
   "outputs": [
    {
     "name": "stdout",
     "output_type": "stream",
     "text": [
      "[4, 3, 2, 1]\n",
      "[1, 2, 3, 4]\n"
     ]
    }
   ],
   "source": [
    "print(arr1)\n",
    "rev = list(reversed(arr1))\n",
    "print(rev)"
   ]
  },
  {
   "cell_type": "code",
   "execution_count": 29,
   "id": "8c7e98d0",
   "metadata": {},
   "outputs": [
    {
     "name": "stdout",
     "output_type": "stream",
     "text": [
      "44253432\n"
     ]
    }
   ],
   "source": [
    "a = [123, 456, 789]\n",
    "add = 1\n",
    "for i in a:\n",
    "    add = add * i\n",
    "print(add)"
   ]
  },
  {
   "cell_type": "code",
   "execution_count": 30,
   "id": "61168731",
   "metadata": {},
   "outputs": [
    {
     "data": {
      "text/plain": [
       "1368"
      ]
     },
     "execution_count": 30,
     "metadata": {},
     "output_type": "execute_result"
    }
   ],
   "source": [
    "sum(i for i in a)"
   ]
  },
  {
   "cell_type": "code",
   "execution_count": 69,
   "id": "33408c51",
   "metadata": {},
   "outputs": [
    {
     "name": "stdout",
     "output_type": "stream",
     "text": [
      "[0, 1]\n"
     ]
    }
   ],
   "source": [
    "a = [0, 1, 2, 3, 4, 5]\n",
    "result = [i for i in a if i // 2 == 0]\n",
    "print(result)"
   ]
  },
  {
   "cell_type": "code",
   "execution_count": 32,
   "id": "65cf0f12",
   "metadata": {},
   "outputs": [
    {
     "data": {
      "text/plain": [
       "[2, 4, 6]"
      ]
     },
     "execution_count": 32,
     "metadata": {},
     "output_type": "execute_result"
    }
   ],
   "source": [
    "numbers = [1, 2, 3, 4, 5, 6]\n",
    "list(filter(lambda x: x % 2 == 0, numbers))"
   ]
  },
  {
   "cell_type": "code",
   "execution_count": 33,
   "id": "15f04d53",
   "metadata": {},
   "outputs": [
    {
     "name": "stdout",
     "output_type": "stream",
     "text": [
      "[456]\n"
     ]
    }
   ],
   "source": [
    "res = [i for i in a if i % 2 == 0]\n",
    "print(res)"
   ]
  },
  {
   "cell_type": "code",
   "execution_count": 34,
   "id": "a7dbf031",
   "metadata": {},
   "outputs": [
    {
     "name": "stdout",
     "output_type": "stream",
     "text": [
      "[2, 4, 6, 8, 10]\n"
     ]
    }
   ],
   "source": [
    "a = [1, 2, 3, 4, 5, 6, 7, 8, 9, 10]\n",
    "\n",
    "res = [val for val in a if val % 2 == 0]\n",
    "print(res)"
   ]
  },
  {
   "cell_type": "code",
   "execution_count": 35,
   "id": "65283d70",
   "metadata": {},
   "outputs": [
    {
     "data": {
      "text/plain": [
       "[1, 4, 9, 16, 25]"
      ]
     },
     "execution_count": 35,
     "metadata": {},
     "output_type": "execute_result"
    }
   ],
   "source": [
    "numbers = [1, 2, 3, 4, 5]\n",
    "list(map(lambda x: x ** 2, numbers))"
   ]
  },
  {
   "cell_type": "code",
   "execution_count": 36,
   "id": "96993ad3",
   "metadata": {},
   "outputs": [
    {
     "data": {
      "text/plain": [
       "[4, 8, 6, 5, 3, 2, 8, 9, 2, 5]"
      ]
     },
     "execution_count": 36,
     "metadata": {},
     "output_type": "execute_result"
    }
   ],
   "source": [
    "str_nums = [\"4\", \"8\", \"6\", \"5\", \"3\", \"2\", \"8\", \"9\", \"2\", \"5\"]\n",
    "list(map(lambda x: int(x), str_nums))"
   ]
  },
  {
   "cell_type": "code",
   "execution_count": 37,
   "id": "fb6325aa",
   "metadata": {},
   "outputs": [
    {
     "name": "stdout",
     "output_type": "stream",
     "text": [
      "[4, 8, 6, 5, 3, 2, 8, 9, 2, 5]\n"
     ]
    }
   ],
   "source": [
    "k = [int(x) for x in str_nums]\n",
    "print(k)"
   ]
  },
  {
   "cell_type": "code",
   "execution_count": 38,
   "id": "2e237e89",
   "metadata": {},
   "outputs": [
    {
     "name": "stdout",
     "output_type": "stream",
     "text": [
      "[-2.0, -1.0, 0.0, 1.0, 2.0]\n"
     ]
    }
   ],
   "source": [
    "numbers = [-2, -1, 0, 1, 2]\n",
    "q = [float(x) for x in numbers]\n",
    "print(q)"
   ]
  },
  {
   "cell_type": "code",
   "execution_count": 39,
   "id": "af768650",
   "metadata": {},
   "outputs": [
    {
     "data": {
      "text/plain": [
       "[7, 2, 4, 6]"
      ]
     },
     "execution_count": 39,
     "metadata": {},
     "output_type": "execute_result"
    }
   ],
   "source": [
    "words = [\"Welcome\", \"to\", \"Real\", \"Python\"]\n",
    "list(map(len,words))"
   ]
  },
  {
   "cell_type": "code",
   "execution_count": 40,
   "id": "37727bbd",
   "metadata": {},
   "outputs": [
    {
     "data": {
      "text/plain": [
       "[1, 32, 729]"
      ]
     },
     "execution_count": 40,
     "metadata": {},
     "output_type": "execute_result"
    }
   ],
   "source": [
    "first_it = [1, 2, 3];   second_it = [4, 5, 6, 7]\n",
    "list(map(lambda x,y: x ** y, first_it, second_it ))"
   ]
  },
  {
   "cell_type": "code",
   "execution_count": 41,
   "id": "3b917eed",
   "metadata": {},
   "outputs": [
    {
     "data": {
      "text/plain": [
       "['PROCESSING', 'STRINGS', 'WITH', 'MAP']"
      ]
     },
     "execution_count": 41,
     "metadata": {},
     "output_type": "execute_result"
    }
   ],
   "source": [
    "string_it = [\"processing\", \"strings\", \"with\", \"map\"]\n",
    "list(map(str.upper, string_it))"
   ]
  },
  {
   "cell_type": "code",
   "execution_count": 42,
   "id": "02352c2b",
   "metadata": {},
   "outputs": [
    {
     "data": {
      "text/plain": [
       "['processing', 'strings', 'with', 'map']"
      ]
     },
     "execution_count": 42,
     "metadata": {},
     "output_type": "execute_result"
    }
   ],
   "source": [
    "with_spaces = [\"processing \", \"  strings\", \"with   \", \" map   \"]\n",
    "list(map(lambda s:s.strip(\" \"), with_spaces))"
   ]
  },
  {
   "cell_type": "code",
   "execution_count": 43,
   "id": "07bce318",
   "metadata": {},
   "outputs": [
    {
     "data": {
      "text/plain": [
       "['processing', 'strings', 'with', 'map']"
      ]
     },
     "execution_count": 43,
     "metadata": {},
     "output_type": "execute_result"
    }
   ],
   "source": [
    "with_dots = [\"processing..\", \"...strings\", \"with....\", \"..map..\"]\n",
    "list(map(lambda s:s.strip(\".\"), with_dots))"
   ]
  },
  {
   "cell_type": "code",
   "execution_count": 18,
   "id": "1c404642",
   "metadata": {},
   "outputs": [
    {
     "name": "stdout",
     "output_type": "stream",
     "text": [
      "Python- is- fun\n"
     ]
    }
   ],
   "source": [
    "words = ['Python', 'is', 'fun']\n",
    "sentence = '- '.join(words)\n",
    "print(sentence)"
   ]
  },
  {
   "cell_type": "code",
   "execution_count": 11,
   "id": "d9a40221",
   "metadata": {},
   "outputs": [
    {
     "name": "stdout",
     "output_type": "stream",
     "text": [
      "['elppa', 'ananab', 'yrrehc', 'etad']\n",
      "['elppa', 'ananab', 'yrrehc', 'etad']\n",
      "['elppa', 'ananab', 'yrrehc', 'etad']\n",
      "['elppa', 'ananab', 'yrrehc', 'etad']\n"
     ]
    }
   ],
   "source": [
    "a = [\"apple\", \"banana\", \"cherry\", \"date\"]\n",
    "res = []\n",
    "# method 1\n",
    "for s in a:\n",
    "    res.append(s[::-1])\n",
    "print(res)\n",
    "\n",
    "# method 2\n",
    "rev_map = list(map(lambda s: s[::-1], a))\n",
    "print(rev_map)\n",
    "\n",
    "r = [s[::-1] for s in a]\n",
    "print(r)\n",
    "\n",
    "# method 3\n",
    "for i in range(len(a)):\n",
    "    temp = ''\n",
    "    for ch in a[i]:\n",
    "        temp = ch + temp\n",
    "    a[i] = temp\n",
    "\n",
    "print(a)"
   ]
  },
  {
   "cell_type": "code",
   "execution_count": 24,
   "id": "9ed4ac3b",
   "metadata": {},
   "outputs": [
    {
     "data": {
      "text/plain": [
       "[1, 4, 3, 6, 7]"
      ]
     },
     "execution_count": 24,
     "metadata": {},
     "output_type": "execute_result"
    }
   ],
   "source": [
    "test_list = ['1', '4', '3', '6', '7']\n",
    "list(int(i) for i in test_list)\n",
    "#list(map(int,test_list))"
   ]
  },
  {
   "cell_type": "code",
   "execution_count": 47,
   "id": "9794d636",
   "metadata": {},
   "outputs": [
    {
     "data": {
      "text/plain": [
       "[1, 4, 3, 6, 7]"
      ]
     },
     "execution_count": 47,
     "metadata": {},
     "output_type": "execute_result"
    }
   ],
   "source": [
    "list(map(lambda i:int(i), test_list))"
   ]
  },
  {
   "cell_type": "code",
   "execution_count": 48,
   "id": "17e513e9",
   "metadata": {},
   "outputs": [
    {
     "data": {
      "text/plain": [
       "[1, 4, 3, 6, 7]"
      ]
     },
     "execution_count": 48,
     "metadata": {},
     "output_type": "execute_result"
    }
   ],
   "source": [
    "list(map(int, test_list))"
   ]
  },
  {
   "cell_type": "code",
   "execution_count": 49,
   "id": "acf1e7e0",
   "metadata": {},
   "outputs": [
    {
     "data": {
      "text/plain": [
       "['G', 'e', 'e', 'k', 's', ' ', 'f', 'o', 'r']"
      ]
     },
     "execution_count": 49,
     "metadata": {},
     "output_type": "execute_result"
    }
   ],
   "source": [
    "s = \"Geeks for\"\n",
    "list(s)"
   ]
  },
  {
   "cell_type": "code",
   "execution_count": 50,
   "id": "3b489cbe",
   "metadata": {},
   "outputs": [
    {
     "name": "stdout",
     "output_type": "stream",
     "text": [
      "Geeks for\n"
     ]
    }
   ],
   "source": [
    "s.split()\n",
    "print(s)"
   ]
  },
  {
   "cell_type": "code",
   "execution_count": 51,
   "id": "45a9eae2",
   "metadata": {},
   "outputs": [
    {
     "name": "stdout",
     "output_type": "stream",
     "text": [
      "['G', 'e', 'e', 'k', 's', ' ', 'f', 'o', 'r']\n"
     ]
    }
   ],
   "source": [
    "x=[i for i in s]\n",
    "print(x)"
   ]
  },
  {
   "cell_type": "code",
   "execution_count": 52,
   "id": "f2c4e889",
   "metadata": {},
   "outputs": [
    {
     "data": {
      "text/plain": [
       "['Geeks', 'for', 'Geeks']"
      ]
     },
     "execution_count": 52,
     "metadata": {},
     "output_type": "execute_result"
    }
   ],
   "source": [
    "str1 = \"Geeks for Geeks\"\n",
    "list(str1.split())\n"
   ]
  },
  {
   "cell_type": "code",
   "execution_count": 53,
   "id": "aff1afe3",
   "metadata": {},
   "outputs": [
    {
     "name": "stdout",
     "output_type": "stream",
     "text": [
      "{1: 'Tom', 2: 'Sam', 3: 'Bob'}\n"
     ]
    }
   ],
   "source": [
    "employees = {}\n",
    "employees = dict()\n",
    "employees = dict({1:'Tom', 2:'Sam', 3:'Bob'})\n",
    "print(employees)"
   ]
  },
  {
   "cell_type": "code",
   "execution_count": 54,
   "id": "1fedb52b",
   "metadata": {},
   "outputs": [
    {
     "name": "stdout",
     "output_type": "stream",
     "text": [
      "{1: 'Tom', 2: 'Sam', 3: 'Bob'}\n"
     ]
    }
   ],
   "source": [
    "employees = {1:'Tom', 2:'Sam', 3:'Bob'}\n",
    "print(employees)"
   ]
  },
  {
   "cell_type": "code",
   "execution_count": 55,
   "id": "dd61c556",
   "metadata": {},
   "outputs": [
    {
     "name": "stdout",
     "output_type": "stream",
     "text": [
      "{1: 'Tom', 2: 'Macy', 3: 'Sam'}\n"
     ]
    }
   ],
   "source": [
    "a = [(1, 'Tom'), (2, 'Macy'), (3, 'Sam')]\n",
    "b = dict(a)\n",
    "print(b)"
   ]
  },
  {
   "cell_type": "code",
   "execution_count": 56,
   "id": "f28c55cb",
   "metadata": {},
   "outputs": [
    {
     "name": "stdout",
     "output_type": "stream",
     "text": [
      "{1: 'Abe', 2: 'Bob', 3: 'Claire'}\n"
     ]
    }
   ],
   "source": [
    "c = dict(zip([1,2,3],['Abe','Bob','Claire']))\n",
    "print(c)"
   ]
  },
  {
   "cell_type": "code",
   "execution_count": 57,
   "id": "ffcff8c2",
   "metadata": {},
   "outputs": [
    {
     "name": "stdout",
     "output_type": "stream",
     "text": [
      "{'one': 1, 'two': 2, 'three': 3}\n"
     ]
    }
   ],
   "source": [
    "numbers = dict(one =1, two  = 2, three =3)\n",
    "print(numbers)"
   ]
  },
  {
   "cell_type": "code",
   "execution_count": 58,
   "id": "0c537ef7",
   "metadata": {},
   "outputs": [
    {
     "name": "stdout",
     "output_type": "stream",
     "text": [
      "{1: 'Alex'}\n"
     ]
    }
   ],
   "source": [
    "emp = {1:'Abe', 1:'Alex'}\n",
    "print(emp)"
   ]
  },
  {
   "cell_type": "code",
   "execution_count": 59,
   "id": "b0651ccc",
   "metadata": {},
   "outputs": [
    {
     "name": "stdout",
     "output_type": "stream",
     "text": [
      "3\n"
     ]
    }
   ],
   "source": [
    "print(len(employees))"
   ]
  },
  {
   "cell_type": "code",
   "execution_count": 60,
   "id": "ac8a2152",
   "metadata": {},
   "outputs": [],
   "source": [
    "if 10 in emp:\n",
    "    print(\"found\")"
   ]
  },
  {
   "cell_type": "code",
   "execution_count": 61,
   "id": "95c074ff",
   "metadata": {},
   "outputs": [
    {
     "name": "stdout",
     "output_type": "stream",
     "text": [
      "Bob\n",
      "Tom\n"
     ]
    }
   ],
   "source": [
    "print(employees[3])\n",
    "print(employees.get(1))"
   ]
  },
  {
   "cell_type": "code",
   "execution_count": 62,
   "id": "32581bf3",
   "metadata": {},
   "outputs": [
    {
     "name": "stdout",
     "output_type": "stream",
     "text": [
      "Alex\n"
     ]
    }
   ],
   "source": [
    "print(emp[1])"
   ]
  },
  {
   "cell_type": "code",
   "execution_count": 63,
   "id": "6ff7bb7c",
   "metadata": {},
   "outputs": [
    {
     "name": "stdout",
     "output_type": "stream",
     "text": [
      "{1: 'Tom', 2: 'Sam', 3: 'Bob', 4: 'Dave'}\n"
     ]
    }
   ],
   "source": [
    "employees[4]='Dave'\n",
    "print(employees)"
   ]
  },
  {
   "cell_type": "code",
   "execution_count": 64,
   "id": "21f4889e",
   "metadata": {},
   "outputs": [
    {
     "name": "stdout",
     "output_type": "stream",
     "text": [
      "4\n"
     ]
    }
   ],
   "source": [
    "print(max(employees))"
   ]
  },
  {
   "cell_type": "code",
   "execution_count": 65,
   "id": "0da2425f",
   "metadata": {},
   "outputs": [
    {
     "name": "stdout",
     "output_type": "stream",
     "text": [
      "dict_values(['Tom', 'Sam', 'Bob', 'Dave'])\n"
     ]
    }
   ],
   "source": [
    "print(employees.values())"
   ]
  },
  {
   "cell_type": "code",
   "execution_count": 66,
   "id": "c0a288c4",
   "metadata": {},
   "outputs": [
    {
     "name": "stdout",
     "output_type": "stream",
     "text": [
      "30\n"
     ]
    }
   ],
   "source": [
    "def sumSeries(n):\n",
    "    if n == 0:\n",
    "          return 0\n",
    "    else:\n",
    "        return n  + sumSeries(n-2)\n",
    "\n",
    "print(sumSeries(10))\n"
   ]
  },
  {
   "cell_type": "code",
   "execution_count": 67,
   "id": "38e6fec5",
   "metadata": {},
   "outputs": [
    {
     "name": "stdout",
     "output_type": "stream",
     "text": [
      "3.103210678210678\n"
     ]
    }
   ],
   "source": [
    "def sumSeries(n):\n",
    "    if n <= 0:\n",
    "          return 0\n",
    "    else:\n",
    "        return 1/n  + sumSeries(n-1)\n",
    "\n",
    "print(sumSeries(12))"
   ]
  },
  {
   "cell_type": "code",
   "execution_count": null,
   "id": "1e1ee42c",
   "metadata": {},
   "outputs": [],
   "source": []
  },
  {
   "cell_type": "code",
   "execution_count": null,
   "id": "89e7db8a",
   "metadata": {},
   "outputs": [],
   "source": []
  }
 ],
 "metadata": {
  "kernelspec": {
   "display_name": "Python 3 (ipykernel)",
   "language": "python",
   "name": "python3"
  },
  "language_info": {
   "codemirror_mode": {
    "name": "ipython",
    "version": 3
   },
   "file_extension": ".py",
   "mimetype": "text/x-python",
   "name": "python",
   "nbconvert_exporter": "python",
   "pygments_lexer": "ipython3",
   "version": "3.11.8"
  }
 },
 "nbformat": 4,
 "nbformat_minor": 5
}
