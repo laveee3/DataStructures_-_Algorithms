{
 "cells": [
  {
   "cell_type": "markdown",
   "id": "be30c5ee",
   "metadata": {},
   "source": [
    "How it works:\n",
    "low tracks the position for the next 0.\n",
    "high tracks the position for the next 2.\n",
    "mid is the current index being examined.\n",
    "\n",
    "The algorithm ensures a single pass (O(n) time) and sorts in-place (O(1) space).\n",
    "\n",
    "✅ 1. Dutch National Flag Algorithm (In-Place, One-Pass)\n",
    "We already covered this one — it:\n",
    "Time complexity: O(n)\n",
    "Space complexity: O(1) → in-place\n",
    "Passes over array: Single pass\n",
    "\n",
    "✅ 2. Dictionary-Based Counting Sort Approach\n",
    "This method counts the occurrences of each value (e.g., 0, 1, 2) using a dictionary, then reconstructs the array.\n",
    "\n",
    "| Feature                   | Dutch Flag Algorithm | Dictionary-Based Approach |\n",
    "| ------------------------- | -------------------- | ------------------------- |\n",
    "| Time Complexity           | O(n)                 | O(n + k log k)\\*          |\n",
    "| Space Complexity          | O(1)                 | O(k)                      |\n",
    "| Number of Passes          | 1 pass               | 2 passes                  |\n",
    "| In-Place                  | ✅ Yes                | ❌ No (uses extra space)   |\n",
    "| Generality (any 3 values) | Requires tweaking    | ✅ Easily adapted          |\n",
    "\n",
    "\n",
    "🏁 Which One is Optimal?\n",
    "✅ If you care about performance (speed + memory): Use the Dutch National Flag algorithm — it's optimal for fixed known values like 0, 1, 2.\n",
    "✅ If you want code generality / simplicity: Dictionary counting works well and can handle any distinct values (e.g., \"red\", \"white\", \"blue\").\n",
    "\n",
    "🆚 Comparing to In-Place Version\n",
    "The dictionary-based method is clearer and works for any values, as long as you define the correct order.\n",
    "If you wanted to implement a Dutch Flag style algorithm (in-place) \n",
    "for \"red\", \"white\", and \"blue\", you'd first map them to 0, 1, 2, \n",
    "apply the numeric version, then map back. More complex — but slightly more efficient."
   ]
  },
  {
   "cell_type": "code",
   "execution_count": null,
   "id": "01ed5aba",
   "metadata": {},
   "outputs": [],
   "source": [
    "def dutch_national_flag(arr):\n",
    "    \"\"\"\n",
    "    Sorts an array with three distinct values (e.g., 0, 1, 2) using the Dutch National Flag algorithm.\n",
    "    This function sorts the array in-place.\n",
    "    \"\"\"\n",
    "    low = 0         # All elements before `low` are 0\n",
    "    mid = 0         # Current element under consideration\n",
    "    high = len(arr) - 1  # All elements after `high` are 2\n",
    "\n",
    "    while mid <= high:\n",
    "        if arr[mid] == 0:\n",
    "            arr[low], arr[mid] = arr[mid], arr[low]\n",
    "            low += 1\n",
    "            mid += 1\n",
    "        elif arr[mid] == 1:\n",
    "            mid += 1\n",
    "        else:  # arr[mid] == 2\n",
    "            arr[mid], arr[high] = arr[high], arr[mid]\n",
    "            high -= 1\n",
    "\n",
    "    return arr\n",
    "\n",
    "# Example usage:\n",
    "arr = [2, 0, 2, 1, 1, 0]\n",
    "sorted_arr = dutch_national_flag(arr)\n",
    "print(\"Sorted array:\", sorted_arr)\n"
   ]
  },
  {
   "cell_type": "code",
   "execution_count": 3,
   "id": "64483eb5",
   "metadata": {},
   "outputs": [
    {
     "name": "stdout",
     "output_type": "stream",
     "text": [
      "Sorted array: ['red', 'red', 'white', 'white', 'blue', 'blue']\n"
     ]
    }
   ],
   "source": [
    "# Dictionary-Based Approach for Strings\n",
    "\n",
    "def sort_colors(arr):\n",
    "    from collections import defaultdict\n",
    "\n",
    "    # Step 1: Count each color\n",
    "    count = defaultdict(int)\n",
    "    for color in arr:\n",
    "        count[color] += 1\n",
    "\n",
    "    # Optional: define the desired order\n",
    "    order = [\"red\", \"white\", \"blue\"]\n",
    "\n",
    "    # Step 2: Reconstruct the array based on order\n",
    "    i = 0\n",
    "    for color in order:\n",
    "        for _ in range(count[color]):\n",
    "            arr[i] = color\n",
    "            i += 1\n",
    "\n",
    "    return arr\n",
    "\n",
    "# Example\n",
    "arr = [\"blue\", \"red\", \"white\", \"blue\", \"red\", \"white\"]\n",
    "sorted_arr = sort_colors(arr)\n",
    "print(\"Sorted array:\", sorted_arr)\n"
   ]
  },
  {
   "cell_type": "markdown",
   "id": "0f246c47",
   "metadata": {},
   "source": [
    "🧩 Problem Statement (Best Time to Buy and Sell Stock)\n",
    "You are given an array prices where prices[i] is the price of a stock on day i.\n",
    "You want to maximize your profit by choosing one day to buy and one different day in the future to sell.\n",
    "\n",
    "Return the maximum profit you can achieve.\n",
    "If no profit is possible, return 0.\n",
    "\n",
    "\n",
    "Time and Space Complexity\n",
    "Time Complexity: O(n) — single pass through array\n",
    "Space Complexity: O(1) — constant space\n",
    "\n",
    "🧠 Explanation:\n",
    "Given: prices = [7, 1, 5, 3, 6, 4]\n",
    "Buy on day 1 (price = 1)\n",
    "Sell on day 4 (price = 6)\n",
    "Profit = 6 - 1 = 5\n",
    "\n",
    "🔍 Step-by-step:\n",
    "\n",
    "Initialize min_price = 7, max_profit = 0\n",
    "Go through each price:\n",
    "At 1: new min_price = 1\n",
    "At 5: profit = 5 - 1 = 4, update max_profit = 4\n",
    "At 6: profit = 6 - 1 = 5, update max_profit = 5\n",
    "At 4: profit = 4 - 1 = 3, max_profit stays 5"
   ]
  },
  {
   "cell_type": "code",
   "execution_count": 13,
   "id": "f843a994",
   "metadata": {},
   "outputs": [
    {
     "name": "stdout",
     "output_type": "stream",
     "text": [
      "Buy on day 1 at price 1\n",
      "Sell on day 4 at price 6\n",
      "Maximum profit: 5\n"
     ]
    }
   ],
   "source": [
    "def max_profit_with_days(prices):\n",
    "    \"\"\"\n",
    "    Returns the maximum profit along with the day to buy and day to sell.\n",
    "    If no profit can be made, returns 0 and None for both days.\n",
    "    \"\"\"\n",
    "    if not prices or len(prices) < 2:\n",
    "        return 0, None, None\n",
    "\n",
    "    min_price = prices[0]\n",
    "    min_day = 0\n",
    "\n",
    "    max_profit = 0\n",
    "    buy_day = None\n",
    "    sell_day = None\n",
    "\n",
    "    for current_day in range(1, len(prices)):\n",
    "        current_price = prices[current_day]\n",
    "        profit = current_price - min_price\n",
    "\n",
    "        if profit > max_profit:\n",
    "            max_profit = profit\n",
    "            buy_day = min_day\n",
    "            sell_day = current_day\n",
    "\n",
    "        if current_price < min_price:\n",
    "            min_price = current_price\n",
    "            min_day = current_day\n",
    "\n",
    "    return max_profit, buy_day, sell_day\n",
    "\n",
    "# Example usage\n",
    "prices = [7, 1, 5, 3, 6, 4]\n",
    "profit, buy_day, sell_day = max_profit_with_days(prices)\n",
    "\n",
    "if profit > 0:\n",
    "    print(f\"Buy on day {buy_day} at price {prices[buy_day]}\")\n",
    "    print(f\"Sell on day {sell_day} at price {prices[sell_day]}\")\n",
    "    print(f\"Maximum profit: {profit}\")\n",
    "else:\n",
    "    print(\"No profitable buy/sell opportunity found.\")\n"
   ]
  },
  {
   "cell_type": "code",
   "execution_count": 6,
   "id": "80a67154",
   "metadata": {},
   "outputs": [
    {
     "data": {
      "text/plain": [
       "False"
      ]
     },
     "execution_count": 6,
     "metadata": {},
     "output_type": "execute_result"
    }
   ],
   "source": [
    "def palindrome_chk(word):\n",
    "    arr = list(word)\n",
    "    i = 0 \n",
    "    j = len(arr) - 1\n",
    "    while i < j :\n",
    "        if arr[i] != arr[j]:\n",
    "            return False\n",
    "        i = i + 1\n",
    "        j = j - 1\n",
    "    return True\n",
    "        \n",
    "palindrome_chk(\"madeam\")\n",
    "    "
   ]
  },
  {
   "cell_type": "code",
   "execution_count": 8,
   "id": "fd76c547",
   "metadata": {},
   "outputs": [
    {
     "data": {
      "text/plain": [
       "'maedam'"
      ]
     },
     "execution_count": 8,
     "metadata": {},
     "output_type": "execute_result"
    }
   ],
   "source": [
    "def reversee(word):\n",
    "    arr = list(word)\n",
    "    i = 0 \n",
    "    j = len(arr) - 1\n",
    "    while i < j :\n",
    "        arr[i], arr[j] = arr[j], arr[i]\n",
    "        i = i + 1\n",
    "        j = j - 1\n",
    "    arr = ''.join(arr)\n",
    "    return arr\n",
    "        \n",
    "reversee(\"madeam\")"
   ]
  },
  {
   "cell_type": "code",
   "execution_count": null,
   "id": "817daf7b",
   "metadata": {},
   "outputs": [],
   "source": []
  }
 ],
 "metadata": {
  "kernelspec": {
   "display_name": "Python 3 (ipykernel)",
   "language": "python",
   "name": "python3"
  },
  "language_info": {
   "codemirror_mode": {
    "name": "ipython",
    "version": 3
   },
   "file_extension": ".py",
   "mimetype": "text/x-python",
   "name": "python",
   "nbconvert_exporter": "python",
   "pygments_lexer": "ipython3",
   "version": "3.11.8"
  }
 },
 "nbformat": 4,
 "nbformat_minor": 5
}
