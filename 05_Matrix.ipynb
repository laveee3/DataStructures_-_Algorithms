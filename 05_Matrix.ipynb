{
 "cells": [
  {
   "cell_type": "code",
   "execution_count": 1,
   "id": "afa14422",
   "metadata": {},
   "outputs": [
    {
     "data": {
      "text/plain": [
       "3"
      ]
     },
     "execution_count": 1,
     "metadata": {},
     "output_type": "execute_result"
    }
   ],
   "source": [
    "# NESTED LIST /  MAtrix\n",
    "matrix = [\n",
    "    [1, 2, 3],\n",
    "    [4, 5, 6],\n",
    "    [7, 8, 9]\n",
    "]\n",
    "\n",
    "'''\n",
    "matrix[0] gives you [1, 2, 3] (the first inner list).\n",
    "matrix[0][0] gives you 1 (the first element of the first inner list).\n",
    "matrix[1][2] gives you 6 (the third element of the second inner list).\n",
    "matrix[2][1] gives you 8 (the second element of the third inner list).\n",
    "'''\n",
    "len(matrix)"
   ]
  },
  {
   "cell_type": "code",
   "execution_count": 2,
   "id": "15be011a",
   "metadata": {},
   "outputs": [
    {
     "name": "stdout",
     "output_type": "stream",
     "text": [
      "[1, 1, 1, 1]\n",
      "[2, 2, 2, 2]\n",
      "[3, 3, 3, 3]\n"
     ]
    }
   ],
   "source": [
    "\"\"\"\n",
    "The average of a subarray will be an integer if and only if the sum of the elements in the subarray is divisible by the length of that subarray.\n",
    "So we want each row to be constructed such that:\n",
    "For any contiguous subarray in a row → its sum is divisible by its length.\n",
    "If each row is an arithmetic progression (AP) with a common difference divisible by N, then all subarray averages will be integers.\n",
    "But there's an even simpler trick: Make each row a constant row (all elements equal)!\n",
    "Why? The average of [a, a, a] is always a, which is an integer.\n",
    "\"\"\"\n",
    "\n",
    "def construct_matrix(M, N):\n",
    "    matrix = []\n",
    "    for i in range(M):\n",
    "        row_value = i + 1\n",
    "        row = [row_value] * N\n",
    "        matrix.append(row)\n",
    "    return matrix\n",
    "\n",
    "# Example usage\n",
    "M, N = 3, 4\n",
    "matrix = construct_matrix(M, N)\n",
    "for row in matrix:\n",
    "    print(row)\n"
   ]
  },
  {
   "cell_type": "code",
   "execution_count": 3,
   "id": "6b8373c4",
   "metadata": {},
   "outputs": [
    {
     "name": "stdout",
     "output_type": "stream",
     "text": [
      "[1, 1, 1, 1, 2, 2, 2, 2, 3, 3, 3, 3]\n"
     ]
    }
   ],
   "source": [
    "# Write a function to flatten a nested list\n",
    "\n",
    "# Method 1\n",
    "flat_list = []\n",
    "for i in range(len(matrix)):\n",
    "    for j in matrix[i]:\n",
    "        flat_list.append(j)\n",
    "print(flat_list)"
   ]
  },
  {
   "cell_type": "code",
   "execution_count": 4,
   "id": "f103ba6f",
   "metadata": {},
   "outputs": [
    {
     "name": "stdout",
     "output_type": "stream",
     "text": [
      "Flattened list: [1, 2, 3, 4, 7, 8]\n"
     ]
    }
   ],
   "source": [
    "# Method 2\n",
    "def flatten_nested_list(nested_list):\n",
    "\n",
    "    flat_list = []\n",
    "    for item in nested_list:\n",
    "        if isinstance(item, list):  # Check if the item is a list\n",
    "            flat_list.extend(flatten_nested_list(item))  # Recursively flatten sublists\n",
    "        else:\n",
    "            flat_list.append(item)  # Add non-list items directly\n",
    "    return flat_list\n",
    "\n",
    "# Example Usage:\n",
    "nested_list1 = [1, 2, [3, 4], 7, 8]\n",
    "flat_list1 = flatten_nested_list(nested_list1)\n",
    "print(f\"Flattened list: {flat_list1}\")  \n",
    "\n",
    "# Output: Flattened list: [1, 2, 3, 4, 7, 8]"
   ]
  },
  {
   "cell_type": "code",
   "execution_count": null,
   "id": "c53aa8a1",
   "metadata": {},
   "outputs": [],
   "source": [
    "\"\"\"            MATRIX MULTIPLICATION              \"\"\"\n",
    "\n",
    "''' \n",
    " Bonus: Matrix Size Compatibility Rule\n",
    "To multiply matrices A (of size m x n) and B (of size n x p), the number of columns in A must equal the number of rows in B.\n",
    "\n",
    "'''"
   ]
  },
  {
   "cell_type": "code",
   "execution_count": null,
   "id": "baf25d46",
   "metadata": {},
   "outputs": [],
   "source": [
    "# 1. Manual Matrix Multiplication (Nested Loops)\n",
    "\n",
    "\n",
    "def matrix_multiply(A, B):\n",
    "    result = [[0 for _ in range(len(B[0]))] for _ in range(len(A))]\n",
    "\n",
    "    for i in range(len(A)):\n",
    "        for j in range(len(B[0])):\n",
    "            for k in range(len(B)):\n",
    "                result[i][j] += A[i][k] * B[k][j]\n",
    "    return result\n",
    "\n",
    "# Example usage:\n",
    "A = [[1, 2], [3, 4]]\n",
    "B = [[5, 6], [7, 8]]\n",
    "\n",
    "print(\"Manual multiplication result:\")\n",
    "for row in matrix_multiply(A, B):\n",
    "    print(row)\n"
   ]
  },
  {
   "cell_type": "code",
   "execution_count": null,
   "id": "1fe0109f",
   "metadata": {},
   "outputs": [],
   "source": [
    "#  2. Using NumPy (Fast & Simple)\n",
    "\n",
    "import numpy as np\n",
    "\n",
    "A = np.array([[1, 2], [3, 4]])\n",
    "B = np.array([[5, 6], [7, 8]])\n",
    "\n",
    "result = np.dot(A, B)  # or A @ B in Python 3.5+\n",
    "print(\"NumPy result:\\n\", result)\n"
   ]
  },
  {
   "cell_type": "code",
   "execution_count": 7,
   "id": "e492b87c",
   "metadata": {},
   "outputs": [
    {
     "name": "stdout",
     "output_type": "stream",
     "text": [
      "List comprehension result:\n",
      "[19, 22]\n",
      "[43, 50]\n"
     ]
    }
   ],
   "source": [
    "#  3. Using List Comprehension\n",
    "\n",
    "def matrix_multiply_list_comp(A, B):\n",
    "    return [[sum(x * y for x, y in zip(row, col)) for col in zip(*B)] for row in A]\n",
    "\n",
    "# Example usage:\n",
    "A = [[1, 2], [3, 4]]\n",
    "B = [[5, 6], [7, 8]]\n",
    "\n",
    "print(\"List comprehension result:\")\n",
    "for row in matrix_multiply_list_comp(A, B):\n",
    "    print(row)\n"
   ]
  },
  {
   "cell_type": "code",
   "execution_count": null,
   "id": "186359d5",
   "metadata": {},
   "outputs": [],
   "source": [
    "#  4. Using @ Operator (Python 3.5+ with NumPy)\n",
    "\n",
    "import numpy as np\n",
    "\n",
    "A = np.array([[1, 2], [3, 4]])\n",
    "B = np.array([[5, 6], [7, 8]])\n",
    "\n",
    "result = A @ B\n",
    "print(\"Using @ operator:\\n\", result)"
   ]
  },
  {
   "cell_type": "code",
   "execution_count": null,
   "id": "da6d096f",
   "metadata": {},
   "outputs": [],
   "source": [
    "\"\"\"            MATRIX ADDITION              \"\"\"\n",
    "\n",
    "''' \n",
    " Bonus: Matrix Size Compatibility Rule\n",
    "To multiply matrices A (of size m x n) and B (of size n x p), \n",
    "the number of columns in A must equal the number of rows in B.\n",
    "\n",
    "'''\n",
    "\n",
    "# 1. Using Nested Loops (Manual Way)\n",
    "\n",
    "def add_matrices(A, B):\n",
    "    rows = len(A)\n",
    "    cols = len(A[0])\n",
    "    result = [[0 for _ in range(cols)] for _ in range(rows)]\n",
    "\n",
    "    for i in range(rows):\n",
    "        for j in range(cols):\n",
    "            result[i][j] = A[i][j] + B[i][j]\n",
    "\n",
    "    return result\n",
    "\n",
    "# Example usage:\n",
    "A = [[1, 2, 3],\n",
    "     [4, 5, 6]]\n",
    "\n",
    "B = [[7, 8, 9],\n",
    "     [10, 11, 12]]\n",
    "\n",
    "result = add_matrices(A, B)\n",
    "print(\"Matrix Addition (Manual):\")\n",
    "for row in result:\n",
    "    print(row)\n",
    "\n",
    "    \n",
    "# 2. Using List Comprehension\n",
    "\n",
    "A = [[1, 2, 3], [4, 5, 6]]\n",
    "B = [[7, 8, 9], [10, 11, 12]]\n",
    "\n",
    "result = [[A[i][j] + B[i][j] for j in range(len(A[0]))] for i in range(len(A))]\n",
    "\n",
    "print(\"Matrix Addition (List Comprehension):\")\n",
    "for row in result:\n",
    "    print(row)\n",
    "\n",
    "    \n",
    "# 3. Using NumPy (Fast & Clean)\n",
    "    \n",
    "import numpy as np\n",
    "\n",
    "A = np.array([[1, 2, 3],\n",
    "              [4, 5, 6]])\n",
    "\n",
    "B = np.array([[7, 8, 9],\n",
    "              [10, 11, 12]])\n",
    "\n",
    "result = A + B\n",
    "\n",
    "print(\"Matrix Addition (NumPy):\\n\", result)\n"
   ]
  },
  {
   "cell_type": "code",
   "execution_count": 5,
   "id": "b9f3dbd2",
   "metadata": {},
   "outputs": [
    {
     "data": {
      "text/plain": [
       "'\\n                   CALENDAR\\n\\nCreating a full calendar for a year in Python (without using libraries like calendar or datetime) is a fun exercise in logic. Below is a self-contained program that:\\nTakes a year as input.\\nDisplays all 12 months.\\nCalculates correct weekday alignment.\\nStarts with Sunday as the first day of the week.\\nUses Zeller’s Congruence to calculate the day of the week for the 1st of each month.\\n\\n'"
      ]
     },
     "execution_count": 5,
     "metadata": {},
     "output_type": "execute_result"
    }
   ],
   "source": [
    "\"\"\"\n",
    "                   CALENDAR\n",
    "\n",
    "Creating a full calendar for a year in Python (without using libraries like calendar or datetime) is a fun exercise in logic. Below is a self-contained program that:\n",
    "Takes a year as input.\n",
    "Displays all 12 months.\n",
    "Calculates correct weekday alignment.\n",
    "Starts with Sunday as the first day of the week.\n",
    "Uses Zeller’s Congruence to calculate the day of the week for the 1st of each month.\n",
    "\n",
    "\"\"\""
   ]
  },
  {
   "cell_type": "code",
   "execution_count": 6,
   "id": "46252dd9",
   "metadata": {},
   "outputs": [
    {
     "name": "stdout",
     "output_type": "stream",
     "text": [
      "       \n",
      "January 2025        \n",
      "Sun Mon Tue Wed Thu Fri Sat\n",
      "              1   2   3   4 \n",
      "  5   6   7   8   9  10  11 \n",
      " 12  13  14  15  16  17  18 \n",
      " 19  20  21  22  23  24  25 \n",
      " 26  27  28  29  30  31 \n",
      "       \n",
      "February 2025       \n",
      "Sun Mon Tue Wed Thu Fri Sat\n",
      "                          1 \n",
      "  2   3   4   5   6   7   8 \n",
      "  9  10  11  12  13  14  15 \n",
      " 16  17  18  19  20  21  22 \n",
      " 23  24  25  26  27  28 \n",
      "        \n",
      "March 2025         \n",
      "Sun Mon Tue Wed Thu Fri Sat\n",
      "                          1 \n",
      "  2   3   4   5   6   7   8 \n",
      "  9  10  11  12  13  14  15 \n",
      " 16  17  18  19  20  21  22 \n",
      " 23  24  25  26  27  28  29 \n",
      " 30  31 \n",
      "        \n",
      "April 2025         \n",
      "Sun Mon Tue Wed Thu Fri Sat\n",
      "          1   2   3   4   5 \n",
      "  6   7   8   9  10  11  12 \n",
      " 13  14  15  16  17  18  19 \n",
      " 20  21  22  23  24  25  26 \n",
      " 27  28  29  30 \n",
      "         \n",
      "May 2025          \n",
      "Sun Mon Tue Wed Thu Fri Sat\n",
      "                  1   2   3 \n",
      "  4   5   6   7   8   9  10 \n",
      " 11  12  13  14  15  16  17 \n",
      " 18  19  20  21  22  23  24 \n",
      " 25  26  27  28  29  30  31 \n",
      "\n",
      "         \n",
      "June 2025         \n",
      "Sun Mon Tue Wed Thu Fri Sat\n",
      "  1   2   3   4   5   6   7 \n",
      "  8   9  10  11  12  13  14 \n",
      " 15  16  17  18  19  20  21 \n",
      " 22  23  24  25  26  27  28 \n",
      " 29  30 \n",
      "         \n",
      "July 2025         \n",
      "Sun Mon Tue Wed Thu Fri Sat\n",
      "          1   2   3   4   5 \n",
      "  6   7   8   9  10  11  12 \n",
      " 13  14  15  16  17  18  19 \n",
      " 20  21  22  23  24  25  26 \n",
      " 27  28  29  30  31 \n",
      "        \n",
      "August 2025        \n",
      "Sun Mon Tue Wed Thu Fri Sat\n",
      "                      1   2 \n",
      "  3   4   5   6   7   8   9 \n",
      " 10  11  12  13  14  15  16 \n",
      " 17  18  19  20  21  22  23 \n",
      " 24  25  26  27  28  29  30 \n",
      " 31 \n",
      "      \n",
      "September 2025       \n",
      "Sun Mon Tue Wed Thu Fri Sat\n",
      "      1   2   3   4   5   6 \n",
      "  7   8   9  10  11  12  13 \n",
      " 14  15  16  17  18  19  20 \n",
      " 21  22  23  24  25  26  27 \n",
      " 28  29  30 \n",
      "       \n",
      "October 2025        \n",
      "Sun Mon Tue Wed Thu Fri Sat\n",
      "              1   2   3   4 \n",
      "  5   6   7   8   9  10  11 \n",
      " 12  13  14  15  16  17  18 \n",
      " 19  20  21  22  23  24  25 \n",
      " 26  27  28  29  30  31 \n",
      "       \n",
      "November 2025       \n",
      "Sun Mon Tue Wed Thu Fri Sat\n",
      "                          1 \n",
      "  2   3   4   5   6   7   8 \n",
      "  9  10  11  12  13  14  15 \n",
      " 16  17  18  19  20  21  22 \n",
      " 23  24  25  26  27  28  29 \n",
      " 30 \n",
      "       \n",
      "December 2025       \n",
      "Sun Mon Tue Wed Thu Fri Sat\n",
      "      1   2   3   4   5   6 \n",
      "  7   8   9  10  11  12  13 \n",
      " 14  15  16  17  18  19  20 \n",
      " 21  22  23  24  25  26  27 \n",
      " 28  29  30  31 \n"
     ]
    }
   ],
   "source": [
    "# Define constants\n",
    "DAYS_IN_MONTH = [31, 28, 31, 30, 31, 30,\n",
    "                 31, 31, 30, 31, 30, 31]\n",
    "\n",
    "MONTH_NAMES = [\"January\", \"February\", \"March\", \"April\", \"May\", \"June\",\n",
    "               \"July\", \"August\", \"September\", \"October\", \"November\", \"December\"]\n",
    "\n",
    "WEEKDAYS = [\"Sun\", \"Mon\", \"Tue\", \"Wed\", \"Thu\", \"Fri\", \"Sat\"]\n",
    "\n",
    "def is_leap_year(year):\n",
    "    return (year % 4 == 0 and year % 100 != 0) or (year % 400 == 0)\n",
    "\n",
    "def zeller_congruence(day, month, year):\n",
    "    if month < 3:\n",
    "        month += 12\n",
    "        year -= 1\n",
    "    K = year % 100\n",
    "    J = year // 100\n",
    "    # Zeller’s formula for Gregorian calendar\n",
    "    h = (day + 13*(month + 1)//5 + K + K//4 + J//4 + 5*J) % 7\n",
    "    # Zeller returns: 0 = Saturday, 1 = Sunday, ..., 6 = Friday\n",
    "    return (h + 6) % 7  # Convert so that 0 = Sunday, 1 = Monday, ...\n",
    "\n",
    "def print_month(month_index, year):\n",
    "    month_name = MONTH_NAMES[month_index]\n",
    "    days = DAYS_IN_MONTH[month_index]\n",
    "    if month_index == 1 and is_leap_year(year):  # February in a leap year\n",
    "        days = 29\n",
    "\n",
    "    first_day = zeller_congruence(1, month_index + 1, year)\n",
    "\n",
    "    print(f\"\\n{month_name} {year}\".center(28, \" \"))\n",
    "    print(\" \".join(WEEKDAYS))\n",
    "\n",
    "    print(\"    \" * first_day, end=\"\")  # Indent first line\n",
    "\n",
    "    for day in range(1, days + 1):\n",
    "        print(f\"{day:>3} \", end=\"\")\n",
    "        first_day = (first_day + 1) % 7\n",
    "        if first_day == 0:\n",
    "            print()\n",
    "\n",
    "def print_calendar(year):\n",
    "    for month_index in range(12):\n",
    "        print_month(month_index, year)\n",
    "        print()  # Extra line between months\n",
    "\n",
    "# Example usage\n",
    "year = 2025\n",
    "print_calendar(year)\n"
   ]
  },
  {
   "cell_type": "code",
   "execution_count": null,
   "id": "a7bf0254",
   "metadata": {},
   "outputs": [],
   "source": []
  }
 ],
 "metadata": {
  "kernelspec": {
   "display_name": "Python 3 (ipykernel)",
   "language": "python",
   "name": "python3"
  },
  "language_info": {
   "codemirror_mode": {
    "name": "ipython",
    "version": 3
   },
   "file_extension": ".py",
   "mimetype": "text/x-python",
   "name": "python",
   "nbconvert_exporter": "python",
   "pygments_lexer": "ipython3",
   "version": "3.11.8"
  }
 },
 "nbformat": 4,
 "nbformat_minor": 5
}
